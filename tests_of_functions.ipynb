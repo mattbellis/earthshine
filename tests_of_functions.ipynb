{
 "cells": [
  {
   "cell_type": "code",
   "execution_count": null,
   "id": "e1e9d6fa",
   "metadata": {},
   "outputs": [],
   "source": [
    "import earthshine as etools \n",
    "\n",
    "import matplotlib.pylab as plt\n",
    "import numpy as np\n",
    "import scipy.integrate as integrate\n",
    "\n",
    "from scipy.interpolate import interp1d\n",
    "\n",
    "import time\n",
    "\n",
    "################################################################################\n",
    "\n",
    "# This will reload modules that have been edited\n",
    "%load_ext autoreload\n",
    "%autoreload 2\n"
   ]
  },
  {
   "cell_type": "markdown",
   "id": "2e865795",
   "metadata": {},
   "source": [
    "# Generate log-spaced numbers"
   ]
  },
  {
   "cell_type": "code",
   "execution_count": null,
   "id": "bd3add83",
   "metadata": {},
   "outputs": [],
   "source": [
    "x = np.geomspace(1,100,21)\n",
    "print(x)"
   ]
  },
  {
   "cell_type": "code",
   "execution_count": null,
   "id": "2929386a",
   "metadata": {},
   "outputs": [],
   "source": [
    "x = np.geomspace(1,5000,35)\n",
    "print(x)\n",
    "\n",
    "plt.figure(figsize=(12,6))\n",
    "plt.subplot(1,2,1)\n",
    "plt.plot(x,x,'o')\n",
    "\n",
    "plt.subplot(1,2,2)\n",
    "plt.plot(x,x,'o')\n",
    "plt.xscale('log')\n",
    "plt.yscale('log')"
   ]
  },
  {
   "cell_type": "markdown",
   "id": "68e6f145",
   "metadata": {},
   "source": [
    "# Solid angle\n",
    "\n",
    "https://en.wikipedia.org/wiki/Steradian\n",
    "\n",
    "https://math.stackexchange.com/questions/1244429/how-to-calculate-solid-angle-of-a-rectangular-detector-of-20cm-x-10cm\n"
   ]
  },
  {
   "cell_type": "code",
   "execution_count": null,
   "id": "4686dd16",
   "metadata": {},
   "outputs": [],
   "source": [
    "length = 1 #\n",
    "width = 1  #\n",
    "radius = 1 #\n",
    "\n",
    "area = length*width\n",
    "\n",
    "omega = etools.solid_angle(length, width, radius)\n",
    "\n",
    "print(f\"length: {length}\")\n",
    "print(f\"width: {width}\")\n",
    "print(f\"area: {area}\\n\")\n",
    "\n",
    "print(f\"radius: {radius}\\n\")\n",
    "\n",
    "print(f\"omega:    {omega}\")\n",
    "print(f\"omega^-1: {1/omega}\")"
   ]
  },
  {
   "cell_type": "code",
   "execution_count": null,
   "id": "098f84a1",
   "metadata": {},
   "outputs": [],
   "source": [
    "#length = 1 #\n",
    "#width = 1  #\n",
    "radius = np.linspace(1,1000,1000)\n",
    "\n",
    "CMS_length = 21 # meters\n",
    "CMS_width = 15 # meters\n",
    "area_of_CMS = CMS_length*CMS_width \n",
    "\n",
    "omega = etools.solid_angle(CMS_length, CMS_width, radius)\n",
    "\n",
    "plt.plot(radius,omega)\n",
    "plt.xscale('log')\n",
    "plt.xlabel('Distance from CMS (m)', fontsize=18)\n",
    "plt.ylabel('Solid angle subtended by CMS (sr)', fontsize=14)"
   ]
  },
  {
   "cell_type": "markdown",
   "id": "4b5ec1f4",
   "metadata": {},
   "source": [
    "# Volume/area of shells"
   ]
  },
  {
   "cell_type": "code",
   "execution_count": null,
   "id": "0dd0f595",
   "metadata": {},
   "outputs": [],
   "source": [
    "# How \"many\" of these 1m^2 chunks are there at distance=distance\n",
    "# *below* CMS (hemisphere)\n",
    "\n",
    "shell_thickness = 1 # meter\n",
    "radius = np.linspace(1,1000,1000)\n",
    "\n",
    "hemisphere_area = 2*np.pi*(radius**2) # in m^2\n",
    "\n",
    "shell_volume = hemisphere_area*shell_thickness\n",
    "\n",
    "\n",
    "plt.plot(radius,shell_volume)\n",
    "#plt.xscale('log')\n",
    "plt.xlabel('Distance from CMS (m)', fontsize=18)\n",
    "plt.ylabel('Volume of each shell (m^3)', fontsize=14)"
   ]
  },
  {
   "cell_type": "code",
   "execution_count": null,
   "id": "8e99be77",
   "metadata": {},
   "outputs": [],
   "source": [
    "plt.plot(radius,shell_volume*omega)\n",
    "#plt.xscale('log')\n",
    "plt.xlabel('Distance from CMS (m)', fontsize=18)\n",
    "plt.ylabel('$V \\\\times \\Omega$', fontsize=14)"
   ]
  },
  {
   "cell_type": "markdown",
   "id": "47301dd3",
   "metadata": {},
   "source": [
    "# Find the number"
   ]
  },
  {
   "cell_type": "code",
   "execution_count": null,
   "id": "8c15c745",
   "metadata": {},
   "outputs": [],
   "source": [
    "npts = 50\n",
    "\n",
    "energies = np.arange(0,npts,1) \n",
    "values = np.zeros(npts) \n",
    "new_values = np.zeros(npts) \n",
    "\n",
    "e = 20\n",
    "values[e] = 10\n",
    "\n",
    "plt.figure(figsize=(6,3))\n",
    "plt.plot(energies,values,'o')\n",
    "\n",
    "idx,central = etools.find_the_number(10, energies)\n",
    "new_values[idx] = values[e]\n",
    "\n",
    "print(idx,central)\n",
    "plt.plot(energies,new_values,'o')\n"
   ]
  },
  {
   "cell_type": "markdown",
   "id": "500c8af1",
   "metadata": {},
   "source": [
    "Can we do this as a histogram with weights?"
   ]
  },
  {
   "cell_type": "code",
   "execution_count": null,
   "id": "698ab266",
   "metadata": {},
   "outputs": [],
   "source": [
    "npts = 11\n",
    "\n",
    "lo = 10\n",
    "hi = 20\n",
    "\n",
    "xpts = np.linspace(lo,hi,npts)\n",
    "ypts = xpts**2 + 500\n",
    "\n",
    "width = xpts[1] - xpts[0]\n",
    "print(f'width: {width}')\n",
    "\n",
    "#print(xpts)\n",
    "\n",
    "plt.figure(figsize=(12,4))\n",
    "\n",
    "plt.subplot(1,2,1)\n",
    "plt.plot(xpts,ypts)\n",
    "\n",
    "h,bin_edges = np.histogram(xpts,range=(lo-width/2,hi+width/2),bins=npts, weights=ypts)\n",
    "\n",
    "print('bin_edges')\n",
    "print(bin_edges)\n",
    "\n",
    "bin_width = bin_edges[1] - bin_edges[0]\n",
    "\n",
    "print(f'bin_width: {bin_width}')\n",
    "\n",
    "plt.subplot(1,2,2)\n",
    "\n",
    "plt.plot(bin_edges[0:-1]+bin_width/2,h)\n",
    "\n",
    "print('xpts')\n",
    "print(xpts[0:5])\n",
    "print(xpts[-5:])\n",
    "\n",
    "print()\n",
    "print('bin_edges')\n",
    "print(bin_edges[0:5])\n",
    "print(bin_edges[-5:])\n",
    "\n",
    "print(len(xpts))\n",
    "print(len(bin_edges))\n",
    "\n",
    "new_xpts = bin_edges[0:-1] + bin_width/2\n",
    "print(new_xpts)"
   ]
  },
  {
   "cell_type": "code",
   "execution_count": null,
   "id": "9851ce4d",
   "metadata": {},
   "outputs": [],
   "source": []
  },
  {
   "cell_type": "code",
   "execution_count": null,
   "id": "31d5975e",
   "metadata": {},
   "outputs": [],
   "source": []
  }
 ],
 "metadata": {
  "kernelspec": {
   "display_name": "Python 3 (ipykernel)",
   "language": "python",
   "name": "python3"
  },
  "language_info": {
   "codemirror_mode": {
    "name": "ipython",
    "version": 3
   },
   "file_extension": ".py",
   "mimetype": "text/x-python",
   "name": "python",
   "nbconvert_exporter": "python",
   "pygments_lexer": "ipython3",
   "version": "3.11.5"
  }
 },
 "nbformat": 4,
 "nbformat_minor": 5
}
