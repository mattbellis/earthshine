{
 "cells": [
  {
   "cell_type": "code",
   "execution_count": null,
   "id": "f7fedaed-2efc-44f2-ac83-d6224c737183",
   "metadata": {},
   "outputs": [],
   "source": [
    "import matplotlib.pylab as plt\n",
    "import numpy as np\n",
    "\n",
    "import phasespace\n",
    "import tensorflow as tf"
   ]
  },
  {
   "cell_type": "code",
   "execution_count": null,
   "id": "a3c40960-f211-4707-8fea-31d382131f43",
   "metadata": {},
   "outputs": [],
   "source": [
    "print(phasespace.__version__)\n",
    "\n",
    "print(tf.__version__)"
   ]
  },
  {
   "cell_type": "code",
   "execution_count": null,
   "id": "f8be8406-791d-4ffc-9b42-b04aab465df8",
   "metadata": {},
   "outputs": [],
   "source": [
    "print(tf.config.list_physical_devices('GPU'))\n",
    "print(tf.config.list_physical_devices('CPU'))"
   ]
  },
  {
   "cell_type": "code",
   "execution_count": null,
   "id": "a565d4d8-b41d-46e8-8279-3a7262d4cc43",
   "metadata": {},
   "outputs": [],
   "source": [
    "def invmass(p4s):\n",
    "  E,px,py,pz = 0,0,0,0\n",
    "\n",
    "  for p4 in p4s:\n",
    "    E += p4[3]\n",
    "    px += p4[0]\n",
    "    py += p4[1]\n",
    "    pz += p4[2]\n",
    "\n",
    "  m2 = E**2 - (px**2 + py**2 + pz**2)\n",
    "  if m2>=0:\n",
    "    return np.sqrt(m2)\n",
    "  else:\n",
    "    return -np.sqrt(-m2)\n",
    "\n",
    "\n",
    "def opening_angle(p4s):\n",
    "  p0mag = np.sqrt(p4s[0][0]**2 + p4s[0][1]**2 + p4s[0][2]**2)\n",
    "  p1mag = np.sqrt(p4s[1][0]**2 + p4s[1][1]**2 + p4s[1][2]**2)\n",
    "\n",
    "  dot_product = p4s[0][0]*p4s[1][0] + p4s[0][1]*p4s[1][1] + p4s[0][2]*p4s[1][2]\n",
    "\n",
    "  theta = np.arccos(dot_product/(p0mag*p1mag))\n",
    "\n",
    "  return theta"
   ]
  },
  {
   "cell_type": "markdown",
   "id": "17b855a9-4a9b-4fdf-80ee-becd9aaac198",
   "metadata": {},
   "source": [
    "Does this help?\n",
    "\n",
    "https://discuss.tensorflow.org/t/problems-with-and-cuda-installation-cudnn-version-missmatch/21461"
   ]
  },
  {
   "cell_type": "code",
   "execution_count": null,
   "id": "13b70f95-1709-44a1-a3ab-53004e0cc0bc",
   "metadata": {},
   "outputs": [],
   "source": [
    "B0_MASS = 5279.65\n",
    "PION_MASS = 139.57018\n",
    "KAON_MASS = 493.677\n",
    "\n",
    "weights, particles = phasespace.nbody_decay(B0_MASS,\n",
    "                                            [PION_MASS, KAON_MASS]).generate(n_events=1000)"
   ]
  },
  {
   "cell_type": "code",
   "execution_count": null,
   "id": "ff6c738b-d9af-4b7a-9392-cb948669945d",
   "metadata": {},
   "outputs": [],
   "source": [
    "DARK_PHOTON_MASS = 1000.00\n",
    "MUON_MASS = 105.11\n",
    "\n",
    "thetas = []\n",
    "pmags = []\n",
    "\n",
    "for pmag in range(1000,100000,10000):\n",
    "  print(pmag)\n",
    "\n",
    "  weights, particles = phasespace.nbody_decay(DARK_PHOTON_MASS,[MUON_MASS, MUON_MASS]).generate(n_events=1, boost_to=np.array([pmag,0,0, np.sqrt(pmag**2 + DARK_PHOTON_MASS**2)]))\n",
    "\n",
    "  p0 = particles['p_0'][0].numpy()\n",
    "  p1 = particles['p_1'][0].numpy()\n",
    "\n",
    "  theta = opening_angle([p0,p1])\n",
    "\n",
    "  pmags.append(pmag)\n",
    "  thetas.append(theta)\n",
    "    "
   ]
  },
  {
   "cell_type": "code",
   "execution_count": null,
   "id": "296f3e9d-f2f8-4791-9257-814e84b78621",
   "metadata": {},
   "outputs": [],
   "source": []
  }
 ],
 "metadata": {
  "kernelspec": {
   "display_name": "Python 3 (ipykernel)",
   "language": "python",
   "name": "python3"
  },
  "language_info": {
   "codemirror_mode": {
    "name": "ipython",
    "version": 3
   },
   "file_extension": ".py",
   "mimetype": "text/x-python",
   "name": "python",
   "nbconvert_exporter": "python",
   "pygments_lexer": "ipython3",
   "version": "3.11.7"
  }
 },
 "nbformat": 4,
 "nbformat_minor": 5
}
