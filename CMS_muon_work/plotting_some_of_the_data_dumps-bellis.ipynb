{
 "cells": [
  {
   "cell_type": "code",
   "execution_count": null,
   "id": "a8059c94",
   "metadata": {},
   "outputs": [],
   "source": [
    "import numpy as np\n",
    "import matplotlib.pylab as plt"
   ]
  },
  {
   "cell_type": "code",
   "execution_count": null,
   "id": "61014c62",
   "metadata": {},
   "outputs": [],
   "source": [
    "infilename = 'output_step1.npy'\n",
    "\n",
    "allvars = np.load(infilename, allow_pickle=True)"
   ]
  },
  {
   "cell_type": "code",
   "execution_count": null,
   "id": "1d79c971",
   "metadata": {},
   "outputs": [],
   "source": [
    "x = allvars[0]\n",
    "y = allvars[1]\n",
    "z = allvars[2]\n",
    "\n",
    "n = allvars[3]\n",
    "\n",
    "x = np.array(x)\n",
    "y = np.array(y)\n",
    "z = np.array(z)\n",
    "n = np.array(n)\n",
    "\n"
   ]
  },
  {
   "cell_type": "code",
   "execution_count": null,
   "id": "29c898d2",
   "metadata": {},
   "outputs": [],
   "source": [
    "# t.PSimHits_g4SimHits_MuonDTHits_SIM.product()\n",
    "\n",
    "N = 81\n",
    "\n",
    "if N == 0:\n",
    "    lo = 0\n",
    "    hi = n[N]\n",
    "else:\n",
    "    lo = np.sum(n[:N])\n",
    "    hi = lo + n[N]\n",
    "\n",
    "\n",
    "plt.figure(figsize=(16,4))\n",
    "plt.gcf().suptitle('PSimHits_g4SimHits_MuonDTHits_SIM',fontsize=12)\n",
    "\n",
    "plt.subplot(1,3,1)\n",
    "plt.plot(x[lo:hi], y[lo:hi],'o',alpha=0.4)\n",
    "plt.xlabel('Local x position')\n",
    "plt.ylabel('Local y position')\n",
    "\n",
    "plt.subplot(1,3,2)\n",
    "plt.plot(x[lo:hi], z[lo:hi],'o',alpha=0.4)\n",
    "plt.xlabel('Local x position')\n",
    "plt.ylabel('Local z position')\n",
    "\n",
    "plt.subplot(1,3,3)\n",
    "plt.plot(y[lo:hi], z[lo:hi],'o',alpha=0.4)\n",
    "plt.xlabel('Local y position')\n",
    "plt.ylabel('Local z position')\n"
   ]
  },
  {
   "cell_type": "code",
   "execution_count": null,
   "id": "fad03cc0",
   "metadata": {},
   "outputs": [],
   "source": [
    "# Get an event\n",
    "N = 10 # This is the event we will get\n",
    "\n",
    "if N == 0:\n",
    "    idx0 = 0\n",
    "    idx1 = n[N]\n",
    "else:\n",
    "    idx0 = np.sum(n[:N])\n",
    "    idx1 = idx0 + n[N]\n",
    "\n",
    "print(n[N], idx0, idx1)\n",
    "\n",
    "xpts = CSCx[idx0:idx1]\n",
    "ypts = CSCy[idx0:idx1]\n",
    "\n",
    "plt.figure()\n",
    "plt.plot(xpts,ypts,'.')"
   ]
  },
  {
   "cell_type": "code",
   "execution_count": null,
   "id": "a7661cac",
   "metadata": {},
   "outputs": [],
   "source": []
  }
 ],
 "metadata": {
  "kernelspec": {
   "display_name": "Python 3 (ipykernel)",
   "language": "python",
   "name": "python3"
  },
  "language_info": {
   "codemirror_mode": {
    "name": "ipython",
    "version": 3
   },
   "file_extension": ".py",
   "mimetype": "text/x-python",
   "name": "python",
   "nbconvert_exporter": "python",
   "pygments_lexer": "ipython3",
   "version": "3.9.12"
  }
 },
 "nbformat": 4,
 "nbformat_minor": 5
}
