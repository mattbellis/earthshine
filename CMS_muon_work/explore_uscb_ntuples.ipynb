{
 "cells": [
  {
   "cell_type": "code",
   "execution_count": null,
   "id": "7f969910",
   "metadata": {},
   "outputs": [],
   "source": [
    "import numpy as np\n",
    "import matplotlib.pylab as plt\n",
    "import uproot\n",
    "import awkward as ak"
   ]
  },
  {
   "cell_type": "code",
   "execution_count": null,
   "id": "75fe3c85",
   "metadata": {},
   "outputs": [],
   "source": [
    "filename = 'ntuple_test.root'\n",
    "f = uproot.open(filename)"
   ]
  },
  {
   "cell_type": "code",
   "execution_count": null,
   "id": "1f4d1535",
   "metadata": {},
   "outputs": [],
   "source": [
    "f.keys()"
   ]
  },
  {
   "cell_type": "code",
   "execution_count": null,
   "id": "46f7bb0f",
   "metadata": {},
   "outputs": [],
   "source": [
    "tree = f['muonPhiAnalyzer/tree']\n",
    "\n",
    "tree.keys()"
   ]
  },
  {
   "cell_type": "code",
   "execution_count": null,
   "id": "654616f0",
   "metadata": {},
   "outputs": [],
   "source": [
    "x = tree['muon_dtSeg_globX'].array()\n",
    "y = tree['muon_dtSeg_globY'].array()\n",
    "z = tree['muon_dtSeg_globZ'].array()\n",
    "t = tree['muon_dtSeg_t0timing'].array()"
   ]
  },
  {
   "cell_type": "code",
   "execution_count": null,
   "id": "0149bab1",
   "metadata": {},
   "outputs": [],
   "source": [
    "x"
   ]
  },
  {
   "cell_type": "code",
   "execution_count": null,
   "id": "02696ae5",
   "metadata": {},
   "outputs": [],
   "source": [
    "type(ak.to_numpy(z[0]))"
   ]
  },
  {
   "cell_type": "code",
   "execution_count": null,
   "id": "d6f167ee",
   "metadata": {},
   "outputs": [],
   "source": [
    "for i,xd in enumerate(ak.num(x)):\n",
    "    print(i,xd)"
   ]
  },
  {
   "cell_type": "code",
   "execution_count": null,
   "id": "59fb6d40",
   "metadata": {},
   "outputs": [],
   "source": [
    "tree.num_entries"
   ]
  },
  {
   "cell_type": "markdown",
   "id": "40f3a049",
   "metadata": {},
   "source": [
    "https://matplotlib.org/stable/api/toolkits/mplot3d/view_angles.html"
   ]
  },
  {
   "cell_type": "code",
   "execution_count": null,
   "id": "52b6ddd8",
   "metadata": {},
   "outputs": [],
   "source": [
    "################################################################################\n",
    "# Takes in a starter plane and then rotates it around the provided angles\n",
    "################################################################################\n",
    "def generate_muon_detector_planes(x,y,z):\n",
    "    planes = []\n",
    "    angles = [0, 30, 60, 90, 120, 150, 180, 210, 240, 270, 300, 330]\n",
    "    for angle in angles:\n",
    "        theta = np.deg2rad(angle)\n",
    "        #rot = np.array([[np.cos(theta),-np.sin(theta)], [np.sin(theta),np.cos(theta)]])\n",
    "        # Rotate around x-axis\n",
    "        rot = np.array([[1,0,0],[0,np.cos(theta),-np.sin(theta)], [0,np.sin(theta),np.cos(theta)]])\n",
    "\n",
    "        #print(x.shape,y.shape,z.shape)\n",
    "        #print(x)\n",
    "        #print(y)\n",
    "        #print(z)\n",
    "\n",
    "        x1 = np.ones(shape=x.shape)\n",
    "        y1 = np.ones(shape=y.shape)\n",
    "        z1 = np.ones(shape=z.shape)\n",
    "\n",
    "        imax = x.shape[0]\n",
    "        jmax = x.shape[1]\n",
    "        for i in range(imax):\n",
    "            for j in range(jmax):\n",
    "                v = [x[i][j], y[i][j], z[i][j]]\n",
    "                v1 = np.matmul(rot,v)\n",
    "                #print(\"here: \",v1)\n",
    "                x1[i][j] = v1[0]\n",
    "                y1[i][j] = v1[1]\n",
    "                z1[i][j] = v1[2]\n",
    "\n",
    "        planes.append([x1,y1,z1])\n",
    "\n",
    "    return planes\n",
    "##############################################################################"
   ]
  },
  {
   "cell_type": "code",
   "execution_count": null,
   "id": "93325769",
   "metadata": {
    "scrolled": false
   },
   "outputs": [],
   "source": [
    "#####################################################\n",
    "# Get points\n",
    "#####################################################\n",
    "xdata = tree['muon_dtSeg_globX'].array()\n",
    "ydata = tree['muon_dtSeg_globY'].array()\n",
    "zdata = tree['muon_dtSeg_globZ'].array()\n",
    "tdata = tree['muon_dtSeg_t0timing'].array()\n",
    "\n",
    "#n = 1\n",
    "n = 64\n",
    "n = 93\n",
    "n = 2101\n",
    "n = 2352\n",
    "n = 2604\n",
    "n = 2607\n",
    "\n",
    "#x[0]\n",
    "\n",
    "xpts = ak.to_numpy(xdata[n])\n",
    "ypts = ak.to_numpy(ydata[n])\n",
    "zpts = ak.to_numpy(zdata[n])\n",
    "tpts = ak.to_numpy(tdata[n])\n",
    "\n",
    "mask = np.abs(tpts) < 100\n",
    "\n",
    "xpts = xpts[mask]\n",
    "ypts = ypts[mask]\n",
    "zpts = zpts[mask]\n",
    "tpts = tpts[mask]\n",
    "\n",
    "\n",
    "\n",
    "fig = plt.figure(figsize=(20,60), num=1, clear=True)\n",
    "axes = []\n",
    "'''\n",
    "axes.append(fig.add_subplot(2, 2, 1, projection='3d'))\n",
    "axes.append(fig.add_subplot(2, 2, 2, projection='3d'))\n",
    "axes.append(fig.add_subplot(2, 2, 3, projection='3d'))\n",
    "axes.append(fig.add_subplot(2, 2, 4, projection='3d'))\n",
    "'''\n",
    "axes.append(fig.add_subplot(4, 1, 1, projection='3d'))\n",
    "axes.append(fig.add_subplot(4, 1, 2, projection='3d'))\n",
    "axes.append(fig.add_subplot(4, 1, 3, projection='3d'))\n",
    "axes.append(fig.add_subplot(4, 1, 4, projection='3d'))\n",
    "\n",
    "'''\n",
    "fig2 = plt.figure(figsize=(12,8), num=2, clear=True)\n",
    "axes2 = []\n",
    "axes2.append(fig2.add_subplot(2, 2, 1, projection='3d'))\n",
    "axes2.append(fig2.add_subplot(2, 2, 2, projection='3d'))\n",
    "axes2.append(fig2.add_subplot(2, 2, 3, projection='3d'))\n",
    "axes2.append(fig2.add_subplot(2, 2, 4, projection='3d'))\n",
    "'''\n",
    "\n",
    "\n",
    "planes = []\n",
    "planes_for_display = []\n",
    "\n",
    "# https://twiki.cern.ch/twiki/bin/view/CMSPublic/MuonDPGPublic160729#Spatial_Resolution\n",
    "#radii = [4.0, 5.0, 6.0, 7.0] # Meters\n",
    "#radii = [4.0, 5.0, ] # Meters\n",
    "radii = [4.0,4.05,4.10,4.15, 5.0,5.05,5.10,5.15, 6.0,6.05,6.10,6.15, 7.0,7.05,7.10,7.15] # Meters\n",
    "#radii = [4.0,4.05,4.10,4.15,]\n",
    "#radii = [4.0] # Meters\n",
    "length = 13.0/2 # Meters\n",
    "for radius in radii:\n",
    "\n",
    "    width = np.deg2rad(30)*radius/2\n",
    "    #print(radius, \"\\twidth: \",width)\n",
    "\n",
    "    # The real planes.\n",
    "    #(x, y) = np.meshgrid(np.arange(-length, length+0.0001, 0.05), np.arange(-width, width+0.0001, .02))\n",
    "    (x, y) = np.meshgrid(np.arange(-length, length+0.0001, 0.5), np.arange(-width, width+0.0001, .1))\n",
    "    z = radius*np.ones(shape=x.shape)\n",
    "    planes += generate_muon_detector_planes(x,y,z)\n",
    "\n",
    "    # Planes just for display purposes with a much coarser binning.\n",
    "    (x, y) = np.meshgrid(np.arange(-length, length+0.0001, 2.0), np.arange(-width, width+0.0001, .5))\n",
    "    z = radius*np.ones(shape=x.shape)\n",
    "    planes_for_display += generate_muon_detector_planes(x,y,z)\n",
    "\n",
    "for p in planes_for_display:\n",
    "    x = p[0]\n",
    "    y = p[1]\n",
    "    z = p[2]\n",
    "    for ax in axes:\n",
    "        ax.plot_wireframe(x, y, z,color='tan',alpha=0.10)\n",
    "        #ax.plot_surface(x, y, z,color='tan',alpha=0.1)\n",
    "        ax.plot(xpts/100, ypts/100, zpts/100,'o',markersize=10, alpha=0.1)\n",
    "\n",
    "\n",
    "#####################################################\n",
    "\n",
    "axes[1].azim += 30\n",
    "axes[1].elev -= 30\n",
    "\n",
    "axes[2].azim = 90\n",
    "\n",
    "axes[3].azim = 0\n",
    "axes[3].elev = 0\n",
    "\n",
    "#plt.tight_layout()\n",
    "\n",
    "print(tpts)\n",
    "print(xpts)\n",
    "print(ypts)\n",
    "print(zpts)"
   ]
  },
  {
   "cell_type": "code",
   "execution_count": null,
   "id": "4308b201",
   "metadata": {},
   "outputs": [],
   "source": [
    "n = 2063\n",
    "\n",
    "#x[0]\n",
    "\n",
    "xpts = ak.to_numpy(x[n])\n",
    "ypts = ak.to_numpy(y[n])\n",
    "zpts = ak.to_numpy(z[n])\n",
    "tpts = ak.to_numpy(t[n])\n",
    "\n",
    "\n",
    "fig = plt.figure(figsize=(15,15))\n",
    "\n",
    "for i in range(0,4):\n",
    "\n",
    "    ax = fig.add_subplot(2,2,i+1, projection='3d')\n",
    "    ax.plot(xpts, ypts, zpts,'o',markersize=10, alpha=0.3)\n",
    "\n",
    "    ax.set_xlim(-800, 800)\n",
    "    ax.set_ylim(-800, 800)\n",
    "    ax.set_zlim(-1200, 1200)\n",
    "\n",
    "    ax.set_xlabel('X')\n",
    "    ax.set_ylabel('Y')\n",
    "    ax.set_zlabel('Z')\n",
    "\n",
    "    if i==0:\n",
    "        ax.view_init(elev=10., azim=10)\n",
    "    elif i==1:\n",
    "        ax.view_init(elev=90., azim=-90, roll=0)\n",
    "    elif i==2:\n",
    "        ax.view_init(elev=0., azim=180, roll=0)\n",
    "\n",
    "plt.tight_layout()\n",
    "\n",
    "print(t[n])"
   ]
  },
  {
   "cell_type": "code",
   "execution_count": null,
   "id": "6953e7f0",
   "metadata": {},
   "outputs": [],
   "source": []
  },
  {
   "cell_type": "code",
   "execution_count": null,
   "id": "6a5d1746",
   "metadata": {},
   "outputs": [],
   "source": [
    "ak.num(x)"
   ]
  },
  {
   "cell_type": "code",
   "execution_count": null,
   "id": "4660493c",
   "metadata": {},
   "outputs": [],
   "source": [
    "plt.hist(ak.flatten(t),bins=100,range=(-80,80));"
   ]
  },
  {
   "cell_type": "code",
   "execution_count": null,
   "id": "334752a4",
   "metadata": {},
   "outputs": [],
   "source": [
    "ccs = []\n",
    "\n",
    "for i in range(len(x)):\n",
    "    cc = np.corrcoef(y[i],t[i])\n",
    "    #print(x[i],cc[1][0])\n",
    "    ccs.append(cc[1][0])"
   ]
  },
  {
   "cell_type": "code",
   "execution_count": null,
   "id": "f2abbb27",
   "metadata": {},
   "outputs": [],
   "source": [
    "plt.hist(ccs,bins=25);"
   ]
  },
  {
   "cell_type": "code",
   "execution_count": null,
   "id": "b5cb5f83",
   "metadata": {},
   "outputs": [],
   "source": [
    "x.array()"
   ]
  },
  {
   "cell_type": "code",
   "execution_count": null,
   "id": "872eb111",
   "metadata": {},
   "outputs": [],
   "source": [
    "for a,b,c in zip(t[1], x[1],y[1]):\n",
    "    print(a,b,c)\n"
   ]
  },
  {
   "cell_type": "code",
   "execution_count": null,
   "id": "f45a8ecd",
   "metadata": {},
   "outputs": [],
   "source": [
    "r = (x**2 + y**2 + z**2)**(0.5)\n",
    "r"
   ]
  },
  {
   "cell_type": "code",
   "execution_count": null,
   "id": "7876262b",
   "metadata": {},
   "outputs": [],
   "source": [
    "plt.plot(ak.flatten(t),ak.flatten(r),'o')\n",
    "plt.xlim(-1200,1000)\n",
    "plt.ylim(0,1000)"
   ]
  },
  {
   "cell_type": "code",
   "execution_count": null,
   "id": "bb591ca2",
   "metadata": {},
   "outputs": [],
   "source": [
    "plt.plot(ak.flatten(t),ak.flatten(r),'.',alpha=0.05, markersize=1)\n",
    "plt.xlim(-250,250)\n",
    "plt.ylim(400,1000)"
   ]
  },
  {
   "cell_type": "code",
   "execution_count": null,
   "id": "1aee7917",
   "metadata": {},
   "outputs": [],
   "source": []
  }
 ],
 "metadata": {
  "kernelspec": {
   "display_name": "Python 3 (ipykernel)",
   "language": "python",
   "name": "python3"
  },
  "language_info": {
   "codemirror_mode": {
    "name": "ipython",
    "version": 3
   },
   "file_extension": ".py",
   "mimetype": "text/x-python",
   "name": "python",
   "nbconvert_exporter": "python",
   "pygments_lexer": "ipython3",
   "version": "3.9.12"
  }
 },
 "nbformat": 4,
 "nbformat_minor": 5
}
