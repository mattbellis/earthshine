{
 "cells": [
  {
   "cell_type": "code",
   "execution_count": 1,
   "id": "407eb975",
   "metadata": {},
   "outputs": [],
   "source": [
    "import numpy as np\n",
    "import matplotlib.pylab as plt\n",
    "\n",
    "import uproot\n",
    "import awkward as ak\n"
   ]
  },
  {
   "cell_type": "code",
   "execution_count": 2,
   "id": "ab6f7d15",
   "metadata": {},
   "outputs": [
    {
     "name": "stdout",
     "output_type": "stream",
     "text": [
      "['MetaData;1', 'ParameterSets;1', 'Parentage;1', 'Events;1', 'LuminosityBlocks;1', 'Runs;1']\n"
     ]
    }
   ],
   "source": [
    "infilename = 'step1.root'\n",
    "f = uproot.open(infilename)\n",
    "\n",
    "print(f.keys())\n",
    "\n",
    "events = f['Events']\n",
    "\n",
    "#nevents = f.get"
   ]
  },
  {
   "cell_type": "code",
   "execution_count": 3,
   "id": "c184924e",
   "metadata": {},
   "outputs": [
    {
     "name": "stdout",
     "output_type": "stream",
     "text": [
      "['FileFormatVersion', 'FileIdentifier', 'IndexIntoFile', 'ProcessHistory', 'ProductRegistry', 'BranchIDLists', 'ThinnedAssociationsHelper', 'ProductDependencies']\n"
     ]
    }
   ],
   "source": [
    "print(f['MetaData'].keys())"
   ]
  },
  {
   "cell_type": "code",
   "execution_count": 4,
   "id": "b1b7461c",
   "metadata": {},
   "outputs": [
    {
     "name": "stdout",
     "output_type": "stream",
     "text": [
      "\n",
      "floatROOTMathCartesian3DROOTMathDefaultCoordinateSystemTagROOTMathPositionVector3D_genParticles_xyz0_SIM.\n",
      "<TBranchElement 'floatROOTMathCartesian3DROOTMathDefaultCoordinateSystemTagROOTMathPositionVector3D_genParticles_xyz0_SIM.' (2 subbranches) at 0x7f3676854af0>\n",
      "\n",
      "floatROOTMathCartesian3DROOTMathDefaultCoordinateSystemTagROOTMathPositionVector3D_genParticles_xyz0_SIM./floatROOTMathCartesian3DROOTMathDefaultCoordinateSystemTagROOTMathPositionVector3D_genParticles_xyz0_SIM.present\n",
      "<TBranchElement 'floatROOTMathCartesian3DROOTMathDefaultCoordinateSystemTagROOTMathPositionVector3D_genParticles_xyz0_SIM.present' at 0x7f3676854fd0>\n",
      "\n",
      "floatROOTMathCartesian3DROOTMathDefaultCoordinateSystemTagROOTMathPositionVector3D_genParticles_xyz0_SIM./floatROOTMathCartesian3DROOTMathDefaultCoordinateSystemTagROOTMathPositionVector3D_genParticles_xyz0_SIM.obj\n",
      "<TBranchElement 'floatROOTMathCartesian3DROOTMathDefaultCoordinateSystemTagROOTMathPositionVector3D_genParticles_xyz0_SIM.obj' at 0x7f367623e9a0>\n",
      "\n",
      "float_genParticles_t0_SIM.\n",
      "<TBranchElement 'float_genParticles_t0_SIM.' (2 subbranches) at 0x7f36761be880>\n",
      "\n",
      "float_genParticles_t0_SIM./float_genParticles_t0_SIM.present\n",
      "<TBranchElement 'float_genParticles_t0_SIM.present' at 0x7f36761bed60>\n",
      "\n",
      "float_genParticles_t0_SIM./float_genParticles_t0_SIM.obj\n",
      "<TBranchElement 'float_genParticles_t0_SIM.obj' at 0x7f36761c3730>\n",
      "\n",
      "ints_genParticles__SIM.\n",
      "<TBranchElement 'ints_genParticles__SIM.' (2 subbranches) at 0x7f3675fa9ee0>\n",
      "\n",
      "ints_genParticles__SIM./ints_genParticles__SIM.present\n",
      "<TBranchElement 'ints_genParticles__SIM.present' at 0x7f3675faf400>\n",
      "\n",
      "ints_genParticles__SIM./ints_genParticles__SIM.obj\n",
      "<TBranchElement 'ints_genParticles__SIM.obj' at 0x7f3675fafd90>\n",
      "\n",
      "recoGenParticles_genParticles__SIM.\n",
      "<TBranchElement 'recoGenParticles_genParticles__SIM.' (2 subbranches) at 0x7f3675f78f40>\n",
      "\n",
      "recoGenParticles_genParticles__SIM./recoGenParticles_genParticles__SIM.present\n",
      "<TBranchElement 'recoGenParticles_genParticles__SIM.present' at 0x7f3675f7c460>\n",
      "\n",
      "recoGenParticles_genParticles__SIM./recoGenParticles_genParticles__SIM.obj\n",
      "<TBranchElement 'recoGenParticles_genParticles__SIM.obj' at 0x7f3675f7ce50>\n"
     ]
    }
   ],
   "source": [
    "for key in events.keys():\n",
    "    if key.find('genParticles')>=0:\n",
    "        print()\n",
    "        print(key)\n",
    "        print(events[key])\n"
   ]
  },
  {
   "cell_type": "code",
   "execution_count": 5,
   "id": "9f70566e",
   "metadata": {},
   "outputs": [],
   "source": [
    "a = events['recoGenParticles_genParticles__SIM.']\n",
    "       "
   ]
  },
  {
   "cell_type": "code",
   "execution_count": 6,
   "id": "3522f13e",
   "metadata": {},
   "outputs": [
    {
     "data": {
      "text/plain": [
       "['recoGenParticles_genParticles__SIM.present',\n",
       " 'recoGenParticles_genParticles__SIM.obj']"
      ]
     },
     "execution_count": 6,
     "metadata": {},
     "output_type": "execute_result"
    }
   ],
   "source": [
    "a.keys()"
   ]
  },
  {
   "cell_type": "code",
   "execution_count": 7,
   "id": "602c700a",
   "metadata": {},
   "outputs": [
    {
     "data": {
      "text/plain": [
       "[]"
      ]
     },
     "execution_count": 7,
     "metadata": {},
     "output_type": "execute_result"
    }
   ],
   "source": [
    "a['recoGenParticles_genParticles__SIM.present'].keys()"
   ]
  },
  {
   "cell_type": "code",
   "execution_count": 10,
   "id": "5ec9ee7b",
   "metadata": {},
   "outputs": [],
   "source": [
    "x = events['floatROOTMathCartesian3DROOTMathDefaultCoordinateSystemTagROOTMathPositionVector3D_genParticles_xyz0_SIM.']"
   ]
  },
  {
   "cell_type": "code",
   "execution_count": 15,
   "id": "84da9efa",
   "metadata": {},
   "outputs": [
    {
     "data": {
      "text/plain": [
       "['floatROOTMathCartesian3DROOTMathDefaultCoordinateSystemTagROOTMathPositionVector3D_genParticles_xyz0_SIM.present',\n",
       " 'floatROOTMathCartesian3DROOTMathDefaultCoordinateSystemTagROOTMathPositionVector3D_genParticles_xyz0_SIM.obj']"
      ]
     },
     "execution_count": 15,
     "metadata": {},
     "output_type": "execute_result"
    }
   ],
   "source": [
    "x.keys()\n"
   ]
  },
  {
   "cell_type": "code",
   "execution_count": 20,
   "id": "bdb1fa64",
   "metadata": {},
   "outputs": [],
   "source": [
    "a = x['floatROOTMathCartesian3DROOTMathDefaultCoordinateSystemTagROOTMathPositionVector3D_genParticles_xyz0_SIM.obj']"
   ]
  },
  {
   "cell_type": "code",
   "execution_count": 27,
   "id": "eec1ea51",
   "metadata": {},
   "outputs": [
    {
     "data": {
      "text/plain": [
       "<Array [] type='0 * {}'>"
      ]
     },
     "execution_count": 27,
     "metadata": {},
     "output_type": "execute_result"
    }
   ],
   "source": [
    "a.arrays()"
   ]
  },
  {
   "cell_type": "code",
   "execution_count": 28,
   "id": "d418aeee",
   "metadata": {},
   "outputs": [
    {
     "name": "stdout",
     "output_type": "stream",
     "text": [
      "EventAuxiliary\n",
      "EventProductProvenance\n",
      "EventSelections\n",
      "BranchListIndexes\n",
      "GenEventInfoProduct_generator__SIM.\n",
      "GenEventInfoProduct_generator__SIM./GenEventInfoProduct_generator__SIM.present\n",
      "GenEventInfoProduct_generator__SIM./GenEventInfoProduct_generator__SIM.obj\n",
      "floatROOTMathCartesian3DROOTMathDefaultCoordinateSystemTagROOTMathPositionVector3D_genParticles_xyz0_SIM.\n",
      "floatROOTMathCartesian3DROOTMathDefaultCoordinateSystemTagROOTMathPositionVector3D_genParticles_xyz0_SIM./floatROOTMathCartesian3DROOTMathDefaultCoordinateSystemTagROOTMathPositionVector3D_genParticles_xyz0_SIM.present\n",
      "floatROOTMathCartesian3DROOTMathDefaultCoordinateSystemTagROOTMathPositionVector3D_genParticles_xyz0_SIM./floatROOTMathCartesian3DROOTMathDefaultCoordinateSystemTagROOTMathPositionVector3D_genParticles_xyz0_SIM.obj\n",
      "double_ak4GenJets_rho_SIM.\n",
      "double_ak4GenJets_rho_SIM./double_ak4GenJets_rho_SIM.present\n",
      "double_ak4GenJets_rho_SIM./double_ak4GenJets_rho_SIM.obj\n",
      "double_ak4GenJetsNoNu_rho_SIM.\n",
      "double_ak4GenJetsNoNu_rho_SIM./double_ak4GenJetsNoNu_rho_SIM.present\n",
      "double_ak4GenJetsNoNu_rho_SIM./double_ak4GenJetsNoNu_rho_SIM.obj\n",
      "double_ak8GenJets_rho_SIM.\n",
      "double_ak8GenJets_rho_SIM./double_ak8GenJets_rho_SIM.present\n",
      "double_ak8GenJets_rho_SIM./double_ak8GenJets_rho_SIM.obj\n",
      "double_ak8GenJetsNoNu_rho_SIM.\n",
      "double_ak8GenJetsNoNu_rho_SIM./double_ak8GenJetsNoNu_rho_SIM.present\n",
      "double_ak8GenJetsNoNu_rho_SIM./double_ak8GenJetsNoNu_rho_SIM.obj\n",
      "double_ak4GenJets_sigma_SIM.\n",
      "double_ak4GenJets_sigma_SIM./double_ak4GenJets_sigma_SIM.present\n",
      "double_ak4GenJets_sigma_SIM./double_ak4GenJets_sigma_SIM.obj\n",
      "double_ak4GenJetsNoNu_sigma_SIM.\n",
      "double_ak4GenJetsNoNu_sigma_SIM./double_ak4GenJetsNoNu_sigma_SIM.present\n",
      "double_ak4GenJetsNoNu_sigma_SIM./double_ak4GenJetsNoNu_sigma_SIM.obj\n",
      "double_ak8GenJets_sigma_SIM.\n",
      "double_ak8GenJets_sigma_SIM./double_ak8GenJets_sigma_SIM.present\n",
      "double_ak8GenJets_sigma_SIM./double_ak8GenJets_sigma_SIM.obj\n",
      "double_ak8GenJetsNoNu_sigma_SIM.\n",
      "double_ak8GenJetsNoNu_sigma_SIM./double_ak8GenJetsNoNu_sigma_SIM.present\n",
      "double_ak8GenJetsNoNu_sigma_SIM./double_ak8GenJetsNoNu_sigma_SIM.obj\n",
      "edmHepMCProduct_generatorSmeared__SIM.\n",
      "edmHepMCProduct_generatorSmeared__SIM./edmHepMCProduct_generatorSmeared__SIM.present\n",
      "edmHepMCProduct_generatorSmeared__SIM./edmHepMCProduct_generatorSmeared__SIM.obj\n",
      "edmRandomEngineStates_randomEngineStateProducer__SIM.\n",
      "edmRandomEngineStates_randomEngineStateProducer__SIM./edmRandomEngineStates_randomEngineStateProducer__SIM.present\n",
      "edmRandomEngineStates_randomEngineStateProducer__SIM./edmRandomEngineStates_randomEngineStateProducer__SIM.obj\n",
      "edmTriggerResults_TriggerResults__SIM.\n",
      "edmTriggerResults_TriggerResults__SIM./edmTriggerResults_TriggerResults__SIM.present\n",
      "edmTriggerResults_TriggerResults__SIM./edmTriggerResults_TriggerResults__SIM.obj\n",
      "float_genParticles_t0_SIM.\n",
      "float_genParticles_t0_SIM./float_genParticles_t0_SIM.present\n",
      "float_genParticles_t0_SIM./float_genParticles_t0_SIM.obj\n",
      "PCaloHits_g4SimHits_CaloHitsTk_SIM.\n",
      "PCaloHits_g4SimHits_CaloHitsTk_SIM./PCaloHits_g4SimHits_CaloHitsTk_SIM.present\n",
      "PCaloHits_g4SimHits_CaloHitsTk_SIM./PCaloHits_g4SimHits_CaloHitsTk_SIM.obj\n",
      "PCaloHits_g4SimHits_CastorBU_SIM.\n",
      "PCaloHits_g4SimHits_CastorBU_SIM./PCaloHits_g4SimHits_CastorBU_SIM.present\n",
      "PCaloHits_g4SimHits_CastorBU_SIM./PCaloHits_g4SimHits_CastorBU_SIM.obj\n",
      "PCaloHits_g4SimHits_CastorFI_SIM.\n",
      "PCaloHits_g4SimHits_CastorFI_SIM./PCaloHits_g4SimHits_CastorFI_SIM.present\n",
      "PCaloHits_g4SimHits_CastorFI_SIM./PCaloHits_g4SimHits_CastorFI_SIM.obj\n",
      "PCaloHits_g4SimHits_CastorPL_SIM.\n",
      "PCaloHits_g4SimHits_CastorPL_SIM./PCaloHits_g4SimHits_CastorPL_SIM.present\n",
      "PCaloHits_g4SimHits_CastorPL_SIM./PCaloHits_g4SimHits_CastorPL_SIM.obj\n",
      "PCaloHits_g4SimHits_CastorTU_SIM.\n",
      "PCaloHits_g4SimHits_CastorTU_SIM./PCaloHits_g4SimHits_CastorTU_SIM.present\n",
      "PCaloHits_g4SimHits_CastorTU_SIM./PCaloHits_g4SimHits_CastorTU_SIM.obj\n",
      "PCaloHits_g4SimHits_ChamberHits_SIM.\n",
      "PCaloHits_g4SimHits_ChamberHits_SIM./PCaloHits_g4SimHits_ChamberHits_SIM.present\n",
      "PCaloHits_g4SimHits_ChamberHits_SIM./PCaloHits_g4SimHits_ChamberHits_SIM.obj\n",
      "PCaloHits_g4SimHits_EcalHitsEB_SIM.\n",
      "PCaloHits_g4SimHits_EcalHitsEB_SIM./PCaloHits_g4SimHits_EcalHitsEB_SIM.present\n",
      "PCaloHits_g4SimHits_EcalHitsEB_SIM./PCaloHits_g4SimHits_EcalHitsEB_SIM.obj\n",
      "PCaloHits_g4SimHits_EcalHitsEE_SIM.\n",
      "PCaloHits_g4SimHits_EcalHitsEE_SIM./PCaloHits_g4SimHits_EcalHitsEE_SIM.present\n",
      "PCaloHits_g4SimHits_EcalHitsEE_SIM./PCaloHits_g4SimHits_EcalHitsEE_SIM.obj\n",
      "PCaloHits_g4SimHits_EcalHitsES_SIM.\n",
      "PCaloHits_g4SimHits_EcalHitsES_SIM./PCaloHits_g4SimHits_EcalHitsES_SIM.present\n",
      "PCaloHits_g4SimHits_EcalHitsES_SIM./PCaloHits_g4SimHits_EcalHitsES_SIM.obj\n",
      "PCaloHits_g4SimHits_EcalTBH4BeamHits_SIM.\n",
      "PCaloHits_g4SimHits_EcalTBH4BeamHits_SIM./PCaloHits_g4SimHits_EcalTBH4BeamHits_SIM.present\n",
      "PCaloHits_g4SimHits_EcalTBH4BeamHits_SIM./PCaloHits_g4SimHits_EcalTBH4BeamHits_SIM.obj\n",
      "PCaloHits_g4SimHits_FibreHits_SIM.\n",
      "PCaloHits_g4SimHits_FibreHits_SIM./PCaloHits_g4SimHits_FibreHits_SIM.present\n",
      "PCaloHits_g4SimHits_FibreHits_SIM./PCaloHits_g4SimHits_FibreHits_SIM.obj\n",
      "PCaloHits_g4SimHits_HGCHitsEE_SIM.\n",
      "PCaloHits_g4SimHits_HGCHitsEE_SIM./PCaloHits_g4SimHits_HGCHitsEE_SIM.present\n",
      "PCaloHits_g4SimHits_HGCHitsEE_SIM./PCaloHits_g4SimHits_HGCHitsEE_SIM.obj\n",
      "PCaloHits_g4SimHits_HGCHitsHEback_SIM.\n",
      "PCaloHits_g4SimHits_HGCHitsHEback_SIM./PCaloHits_g4SimHits_HGCHitsHEback_SIM.present\n",
      "PCaloHits_g4SimHits_HGCHitsHEback_SIM./PCaloHits_g4SimHits_HGCHitsHEback_SIM.obj\n",
      "PCaloHits_g4SimHits_HGCHitsHEfront_SIM.\n",
      "PCaloHits_g4SimHits_HGCHitsHEfront_SIM./PCaloHits_g4SimHits_HGCHitsHEfront_SIM.present\n",
      "PCaloHits_g4SimHits_HGCHitsHEfront_SIM./PCaloHits_g4SimHits_HGCHitsHEfront_SIM.obj\n",
      "PCaloHits_g4SimHits_HcalHits_SIM.\n",
      "PCaloHits_g4SimHits_HcalHits_SIM./PCaloHits_g4SimHits_HcalHits_SIM.present\n",
      "PCaloHits_g4SimHits_HcalHits_SIM./PCaloHits_g4SimHits_HcalHits_SIM.obj\n",
      "PCaloHits_g4SimHits_HcalTB06BeamHits_SIM.\n",
      "PCaloHits_g4SimHits_HcalTB06BeamHits_SIM./PCaloHits_g4SimHits_HcalTB06BeamHits_SIM.present\n",
      "PCaloHits_g4SimHits_HcalTB06BeamHits_SIM./PCaloHits_g4SimHits_HcalTB06BeamHits_SIM.obj\n",
      "PCaloHits_g4SimHits_WedgeHits_SIM.\n",
      "PCaloHits_g4SimHits_WedgeHits_SIM./PCaloHits_g4SimHits_WedgeHits_SIM.present\n",
      "PCaloHits_g4SimHits_WedgeHits_SIM./PCaloHits_g4SimHits_WedgeHits_SIM.obj\n",
      "PCaloHits_g4SimHits_ZDCHITS_SIM.\n",
      "PCaloHits_g4SimHits_ZDCHITS_SIM./PCaloHits_g4SimHits_ZDCHITS_SIM.present\n",
      "PCaloHits_g4SimHits_ZDCHITS_SIM./PCaloHits_g4SimHits_ZDCHITS_SIM.obj\n",
      "PSimHits_g4SimHits_BCM1FHits_SIM.\n",
      "PSimHits_g4SimHits_BCM1FHits_SIM./PSimHits_g4SimHits_BCM1FHits_SIM.present\n",
      "PSimHits_g4SimHits_BCM1FHits_SIM./PSimHits_g4SimHits_BCM1FHits_SIM.obj\n",
      "PSimHits_g4SimHits_BHMHits_SIM.\n",
      "PSimHits_g4SimHits_BHMHits_SIM./PSimHits_g4SimHits_BHMHits_SIM.present\n",
      "PSimHits_g4SimHits_BHMHits_SIM./PSimHits_g4SimHits_BHMHits_SIM.obj\n",
      "PSimHits_g4SimHits_BSCHits_SIM.\n",
      "PSimHits_g4SimHits_BSCHits_SIM./PSimHits_g4SimHits_BSCHits_SIM.present\n",
      "PSimHits_g4SimHits_BSCHits_SIM./PSimHits_g4SimHits_BSCHits_SIM.obj\n",
      "PSimHits_g4SimHits_FP420SI_SIM.\n",
      "PSimHits_g4SimHits_FP420SI_SIM./PSimHits_g4SimHits_FP420SI_SIM.present\n",
      "PSimHits_g4SimHits_FP420SI_SIM./PSimHits_g4SimHits_FP420SI_SIM.obj\n",
      "PSimHits_g4SimHits_FastTimerHitsBarrel_SIM.\n",
      "PSimHits_g4SimHits_FastTimerHitsBarrel_SIM./PSimHits_g4SimHits_FastTimerHitsBarrel_SIM.present\n",
      "PSimHits_g4SimHits_FastTimerHitsBarrel_SIM./PSimHits_g4SimHits_FastTimerHitsBarrel_SIM.obj\n",
      "PSimHits_g4SimHits_FastTimerHitsEndcap_SIM.\n",
      "PSimHits_g4SimHits_FastTimerHitsEndcap_SIM./PSimHits_g4SimHits_FastTimerHitsEndcap_SIM.present\n",
      "PSimHits_g4SimHits_FastTimerHitsEndcap_SIM./PSimHits_g4SimHits_FastTimerHitsEndcap_SIM.obj\n",
      "PSimHits_g4SimHits_MuonCSCHits_SIM.\n",
      "PSimHits_g4SimHits_MuonCSCHits_SIM./PSimHits_g4SimHits_MuonCSCHits_SIM.present\n",
      "PSimHits_g4SimHits_MuonCSCHits_SIM./PSimHits_g4SimHits_MuonCSCHits_SIM.obj\n",
      "PSimHits_g4SimHits_MuonDTHits_SIM.\n",
      "PSimHits_g4SimHits_MuonDTHits_SIM./PSimHits_g4SimHits_MuonDTHits_SIM.present\n",
      "PSimHits_g4SimHits_MuonDTHits_SIM./PSimHits_g4SimHits_MuonDTHits_SIM.obj\n",
      "PSimHits_g4SimHits_MuonGEMHits_SIM.\n",
      "PSimHits_g4SimHits_MuonGEMHits_SIM./PSimHits_g4SimHits_MuonGEMHits_SIM.present\n",
      "PSimHits_g4SimHits_MuonGEMHits_SIM./PSimHits_g4SimHits_MuonGEMHits_SIM.obj\n",
      "PSimHits_g4SimHits_MuonME0Hits_SIM.\n",
      "PSimHits_g4SimHits_MuonME0Hits_SIM./PSimHits_g4SimHits_MuonME0Hits_SIM.present\n",
      "PSimHits_g4SimHits_MuonME0Hits_SIM./PSimHits_g4SimHits_MuonME0Hits_SIM.obj\n",
      "PSimHits_g4SimHits_MuonRPCHits_SIM.\n",
      "PSimHits_g4SimHits_MuonRPCHits_SIM./PSimHits_g4SimHits_MuonRPCHits_SIM.present\n",
      "PSimHits_g4SimHits_MuonRPCHits_SIM./PSimHits_g4SimHits_MuonRPCHits_SIM.obj\n",
      "PSimHits_g4SimHits_PLTHits_SIM.\n",
      "PSimHits_g4SimHits_PLTHits_SIM./PSimHits_g4SimHits_PLTHits_SIM.present\n",
      "PSimHits_g4SimHits_PLTHits_SIM./PSimHits_g4SimHits_PLTHits_SIM.obj\n",
      "PSimHits_g4SimHits_TotemHitsRP_SIM.\n",
      "PSimHits_g4SimHits_TotemHitsRP_SIM./PSimHits_g4SimHits_TotemHitsRP_SIM.present\n",
      "PSimHits_g4SimHits_TotemHitsRP_SIM./PSimHits_g4SimHits_TotemHitsRP_SIM.obj\n",
      "PSimHits_g4SimHits_TotemHitsT1_SIM.\n",
      "PSimHits_g4SimHits_TotemHitsT1_SIM./PSimHits_g4SimHits_TotemHitsT1_SIM.present\n",
      "PSimHits_g4SimHits_TotemHitsT1_SIM./PSimHits_g4SimHits_TotemHitsT1_SIM.obj\n",
      "PSimHits_g4SimHits_TotemHitsT2Gem_SIM.\n",
      "PSimHits_g4SimHits_TotemHitsT2Gem_SIM./PSimHits_g4SimHits_TotemHitsT2Gem_SIM.present\n",
      "PSimHits_g4SimHits_TotemHitsT2Gem_SIM./PSimHits_g4SimHits_TotemHitsT2Gem_SIM.obj\n",
      "PSimHits_g4SimHits_TrackerHitsPixelBarrelHighTof_SIM.\n",
      "PSimHits_g4SimHits_TrackerHitsPixelBarrelHighTof_SIM./PSimHits_g4SimHits_TrackerHitsPixelBarrelHighTof_SIM.present\n",
      "PSimHits_g4SimHits_TrackerHitsPixelBarrelHighTof_SIM./PSimHits_g4SimHits_TrackerHitsPixelBarrelHighTof_SIM.obj\n",
      "PSimHits_g4SimHits_TrackerHitsPixelBarrelLowTof_SIM.\n",
      "PSimHits_g4SimHits_TrackerHitsPixelBarrelLowTof_SIM./PSimHits_g4SimHits_TrackerHitsPixelBarrelLowTof_SIM.present\n",
      "PSimHits_g4SimHits_TrackerHitsPixelBarrelLowTof_SIM./PSimHits_g4SimHits_TrackerHitsPixelBarrelLowTof_SIM.obj\n",
      "PSimHits_g4SimHits_TrackerHitsPixelEndcapHighTof_SIM.\n",
      "PSimHits_g4SimHits_TrackerHitsPixelEndcapHighTof_SIM./PSimHits_g4SimHits_TrackerHitsPixelEndcapHighTof_SIM.present\n",
      "PSimHits_g4SimHits_TrackerHitsPixelEndcapHighTof_SIM./PSimHits_g4SimHits_TrackerHitsPixelEndcapHighTof_SIM.obj\n",
      "PSimHits_g4SimHits_TrackerHitsPixelEndcapLowTof_SIM.\n",
      "PSimHits_g4SimHits_TrackerHitsPixelEndcapLowTof_SIM./PSimHits_g4SimHits_TrackerHitsPixelEndcapLowTof_SIM.present\n",
      "PSimHits_g4SimHits_TrackerHitsPixelEndcapLowTof_SIM./PSimHits_g4SimHits_TrackerHitsPixelEndcapLowTof_SIM.obj\n",
      "PSimHits_g4SimHits_TrackerHitsTECHighTof_SIM.\n",
      "PSimHits_g4SimHits_TrackerHitsTECHighTof_SIM./PSimHits_g4SimHits_TrackerHitsTECHighTof_SIM.present\n",
      "PSimHits_g4SimHits_TrackerHitsTECHighTof_SIM./PSimHits_g4SimHits_TrackerHitsTECHighTof_SIM.obj\n",
      "PSimHits_g4SimHits_TrackerHitsTECLowTof_SIM.\n",
      "PSimHits_g4SimHits_TrackerHitsTECLowTof_SIM./PSimHits_g4SimHits_TrackerHitsTECLowTof_SIM.present\n",
      "PSimHits_g4SimHits_TrackerHitsTECLowTof_SIM./PSimHits_g4SimHits_TrackerHitsTECLowTof_SIM.obj\n",
      "PSimHits_g4SimHits_TrackerHitsTIBHighTof_SIM.\n",
      "PSimHits_g4SimHits_TrackerHitsTIBHighTof_SIM./PSimHits_g4SimHits_TrackerHitsTIBHighTof_SIM.present\n",
      "PSimHits_g4SimHits_TrackerHitsTIBHighTof_SIM./PSimHits_g4SimHits_TrackerHitsTIBHighTof_SIM.obj\n",
      "PSimHits_g4SimHits_TrackerHitsTIBLowTof_SIM.\n",
      "PSimHits_g4SimHits_TrackerHitsTIBLowTof_SIM./PSimHits_g4SimHits_TrackerHitsTIBLowTof_SIM.present\n",
      "PSimHits_g4SimHits_TrackerHitsTIBLowTof_SIM./PSimHits_g4SimHits_TrackerHitsTIBLowTof_SIM.obj\n",
      "PSimHits_g4SimHits_TrackerHitsTIDHighTof_SIM.\n",
      "PSimHits_g4SimHits_TrackerHitsTIDHighTof_SIM./PSimHits_g4SimHits_TrackerHitsTIDHighTof_SIM.present\n",
      "PSimHits_g4SimHits_TrackerHitsTIDHighTof_SIM./PSimHits_g4SimHits_TrackerHitsTIDHighTof_SIM.obj\n",
      "PSimHits_g4SimHits_TrackerHitsTIDLowTof_SIM.\n",
      "PSimHits_g4SimHits_TrackerHitsTIDLowTof_SIM./PSimHits_g4SimHits_TrackerHitsTIDLowTof_SIM.present\n",
      "PSimHits_g4SimHits_TrackerHitsTIDLowTof_SIM./PSimHits_g4SimHits_TrackerHitsTIDLowTof_SIM.obj\n",
      "PSimHits_g4SimHits_TrackerHitsTOBHighTof_SIM.\n",
      "PSimHits_g4SimHits_TrackerHitsTOBHighTof_SIM./PSimHits_g4SimHits_TrackerHitsTOBHighTof_SIM.present\n",
      "PSimHits_g4SimHits_TrackerHitsTOBHighTof_SIM./PSimHits_g4SimHits_TrackerHitsTOBHighTof_SIM.obj\n",
      "PSimHits_g4SimHits_TrackerHitsTOBLowTof_SIM.\n",
      "PSimHits_g4SimHits_TrackerHitsTOBLowTof_SIM./PSimHits_g4SimHits_TrackerHitsTOBLowTof_SIM.present\n",
      "PSimHits_g4SimHits_TrackerHitsTOBLowTof_SIM./PSimHits_g4SimHits_TrackerHitsTOBLowTof_SIM.obj\n",
      "SimTracks_g4SimHits__SIM.\n",
      "SimTracks_g4SimHits__SIM./SimTracks_g4SimHits__SIM.present\n",
      "SimTracks_g4SimHits__SIM./SimTracks_g4SimHits__SIM.obj\n",
      "SimVertexs_g4SimHits__SIM.\n",
      "SimVertexs_g4SimHits__SIM./SimVertexs_g4SimHits__SIM.present\n",
      "SimVertexs_g4SimHits__SIM./SimVertexs_g4SimHits__SIM.obj\n",
      "doubles_ak4GenJets_rhos_SIM.\n",
      "doubles_ak4GenJets_rhos_SIM./doubles_ak4GenJets_rhos_SIM.present\n",
      "doubles_ak4GenJets_rhos_SIM./doubles_ak4GenJets_rhos_SIM.obj\n",
      "doubles_ak4GenJetsNoNu_rhos_SIM.\n",
      "doubles_ak4GenJetsNoNu_rhos_SIM./doubles_ak4GenJetsNoNu_rhos_SIM.present\n",
      "doubles_ak4GenJetsNoNu_rhos_SIM./doubles_ak4GenJetsNoNu_rhos_SIM.obj\n",
      "doubles_ak8GenJets_rhos_SIM.\n",
      "doubles_ak8GenJets_rhos_SIM./doubles_ak8GenJets_rhos_SIM.present\n",
      "doubles_ak8GenJets_rhos_SIM./doubles_ak8GenJets_rhos_SIM.obj\n",
      "doubles_ak8GenJetsNoNu_rhos_SIM.\n",
      "doubles_ak8GenJetsNoNu_rhos_SIM./doubles_ak8GenJetsNoNu_rhos_SIM.present\n",
      "doubles_ak8GenJetsNoNu_rhos_SIM./doubles_ak8GenJetsNoNu_rhos_SIM.obj\n",
      "doubles_ak4GenJets_sigmas_SIM.\n",
      "doubles_ak4GenJets_sigmas_SIM./doubles_ak4GenJets_sigmas_SIM.present\n",
      "doubles_ak4GenJets_sigmas_SIM./doubles_ak4GenJets_sigmas_SIM.obj\n",
      "doubles_ak4GenJetsNoNu_sigmas_SIM.\n",
      "doubles_ak4GenJetsNoNu_sigmas_SIM./doubles_ak4GenJetsNoNu_sigmas_SIM.present\n",
      "doubles_ak4GenJetsNoNu_sigmas_SIM./doubles_ak4GenJetsNoNu_sigmas_SIM.obj\n",
      "doubles_ak8GenJets_sigmas_SIM.\n",
      "doubles_ak8GenJets_sigmas_SIM./doubles_ak8GenJets_sigmas_SIM.present\n",
      "doubles_ak8GenJets_sigmas_SIM./doubles_ak8GenJets_sigmas_SIM.obj\n",
      "doubles_ak8GenJetsNoNu_sigmas_SIM.\n",
      "doubles_ak8GenJetsNoNu_sigmas_SIM./doubles_ak8GenJetsNoNu_sigmas_SIM.present\n",
      "doubles_ak8GenJetsNoNu_sigmas_SIM./doubles_ak8GenJetsNoNu_sigmas_SIM.obj\n",
      "ints_genParticles__SIM.\n",
      "ints_genParticles__SIM./ints_genParticles__SIM.present\n",
      "ints_genParticles__SIM./ints_genParticles__SIM.obj\n",
      "recoGenJets_ak4GenJets__SIM.\n",
      "recoGenJets_ak4GenJets__SIM./recoGenJets_ak4GenJets__SIM.present\n",
      "recoGenJets_ak4GenJets__SIM./recoGenJets_ak4GenJets__SIM.obj\n",
      "recoGenJets_ak4GenJetsNoNu__SIM.\n",
      "recoGenJets_ak4GenJetsNoNu__SIM./recoGenJets_ak4GenJetsNoNu__SIM.present\n",
      "recoGenJets_ak4GenJetsNoNu__SIM./recoGenJets_ak4GenJetsNoNu__SIM.obj\n",
      "recoGenJets_ak8GenJets__SIM.\n",
      "recoGenJets_ak8GenJets__SIM./recoGenJets_ak8GenJets__SIM.present\n",
      "recoGenJets_ak8GenJets__SIM./recoGenJets_ak8GenJets__SIM.obj\n",
      "recoGenJets_ak8GenJetsNoNu__SIM.\n",
      "recoGenJets_ak8GenJetsNoNu__SIM./recoGenJets_ak8GenJetsNoNu__SIM.present\n",
      "recoGenJets_ak8GenJetsNoNu__SIM./recoGenJets_ak8GenJetsNoNu__SIM.obj\n",
      "recoGenMETs_genMetCalo__SIM.\n",
      "recoGenMETs_genMetCalo__SIM./recoGenMETs_genMetCalo__SIM.present\n",
      "recoGenMETs_genMetCalo__SIM./recoGenMETs_genMetCalo__SIM.obj\n",
      "recoGenMETs_genMetTrue__SIM.\n",
      "recoGenMETs_genMetTrue__SIM./recoGenMETs_genMetTrue__SIM.present\n",
      "recoGenMETs_genMetTrue__SIM./recoGenMETs_genMetTrue__SIM.obj\n",
      "recoGenParticles_genParticles__SIM.\n",
      "recoGenParticles_genParticles__SIM./recoGenParticles_genParticles__SIM.present\n",
      "recoGenParticles_genParticles__SIM./recoGenParticles_genParticles__SIM.obj\n"
     ]
    }
   ],
   "source": [
    "for key in events.keys():\n",
    "    print(key)"
   ]
  },
  {
   "cell_type": "code",
   "execution_count": 31,
   "id": "70e06f73",
   "metadata": {},
   "outputs": [],
   "source": [
    "a = events['recoGenParticles_genParticles__SIM./recoGenParticles_genParticles__SIM.obj']\n"
   ]
  },
  {
   "cell_type": "code",
   "execution_count": 32,
   "id": "70542a4d",
   "metadata": {},
   "outputs": [
    {
     "name": "stdout",
     "output_type": "stream",
     "text": [
      "name                 | typename                 | interpretation                \n",
      "---------------------+--------------------------+-------------------------------\n",
      "recoGenParticles_gen | unknown                  | <UnknownInterpretation 'none o\n"
     ]
    }
   ],
   "source": [
    "a.show()"
   ]
  },
  {
   "cell_type": "code",
   "execution_count": 34,
   "id": "4b228310",
   "metadata": {},
   "outputs": [
    {
     "data": {
      "text/plain": [
       "<UnknownInterpretation 'none of the rules matched'>"
      ]
     },
     "execution_count": 34,
     "metadata": {},
     "output_type": "execute_result"
    }
   ],
   "source": [
    "a.interpretation"
   ]
  },
  {
   "cell_type": "code",
   "execution_count": null,
   "id": "77604197",
   "metadata": {},
   "outputs": [],
   "source": []
  }
 ],
 "metadata": {
  "kernelspec": {
   "display_name": "Python 3 (ipykernel)",
   "language": "python",
   "name": "python3"
  },
  "language_info": {
   "codemirror_mode": {
    "name": "ipython",
    "version": 3
   },
   "file_extension": ".py",
   "mimetype": "text/x-python",
   "name": "python",
   "nbconvert_exporter": "python",
   "pygments_lexer": "ipython3",
   "version": "3.9.12"
  }
 },
 "nbformat": 4,
 "nbformat_minor": 5
}
