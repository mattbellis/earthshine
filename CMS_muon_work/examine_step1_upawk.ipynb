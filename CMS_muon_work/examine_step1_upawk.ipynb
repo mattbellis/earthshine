{
 "cells": [
  {
   "cell_type": "code",
   "execution_count": null,
   "id": "407eb975",
   "metadata": {},
   "outputs": [],
   "source": [
    "import numpy as np\n",
    "import matplotlib.pylab as plt\n",
    "\n",
    "import uproot\n",
    "import awkward as ak\n"
   ]
  },
  {
   "cell_type": "code",
   "execution_count": null,
   "id": "ab6f7d15",
   "metadata": {},
   "outputs": [],
   "source": [
    "infilename = 'step1.root'\n",
    "f = uproot.open(infilename)\n",
    "\n",
    "print(f.keys())\n",
    "\n",
    "events = f['Events']\n",
    "\n",
    "#nevents = f.get"
   ]
  },
  {
   "cell_type": "code",
   "execution_count": null,
   "id": "c184924e",
   "metadata": {},
   "outputs": [],
   "source": [
    "print(f['MetaData'].keys())"
   ]
  },
  {
   "cell_type": "code",
   "execution_count": null,
   "id": "b1b7461c",
   "metadata": {},
   "outputs": [],
   "source": [
    "for key in events.keys():\n",
    "    if key.find('genParticles')>=0:\n",
    "        print()\n",
    "        print(key)\n",
    "        print(events[key])\n"
   ]
  },
  {
   "cell_type": "code",
   "execution_count": null,
   "id": "9f70566e",
   "metadata": {},
   "outputs": [],
   "source": [
    "a = events['recoGenParticles_genParticles__SIM.']\n",
    "       "
   ]
  },
  {
   "cell_type": "code",
   "execution_count": null,
   "id": "3522f13e",
   "metadata": {},
   "outputs": [],
   "source": [
    "a.keys()"
   ]
  },
  {
   "cell_type": "code",
   "execution_count": null,
   "id": "602c700a",
   "metadata": {},
   "outputs": [],
   "source": [
    "a['recoGenParticles_genParticles__SIM.present'].keys()"
   ]
  },
  {
   "cell_type": "code",
   "execution_count": null,
   "id": "5ec9ee7b",
   "metadata": {},
   "outputs": [],
   "source": []
  }
 ],
 "metadata": {
  "kernelspec": {
   "display_name": "Python 3 (ipykernel)",
   "language": "python",
   "name": "python3"
  },
  "language_info": {
   "codemirror_mode": {
    "name": "ipython",
    "version": 3
   },
   "file_extension": ".py",
   "mimetype": "text/x-python",
   "name": "python",
   "nbconvert_exporter": "python",
   "pygments_lexer": "ipython3",
   "version": "3.9.7"
  }
 },
 "nbformat": 4,
 "nbformat_minor": 5
}
