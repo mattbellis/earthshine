{
 "cells": [
  {
   "cell_type": "code",
   "execution_count": null,
   "id": "6d5b5552",
   "metadata": {},
   "outputs": [],
   "source": [
    "'''\n",
    "almost entirely stolen from one of the links in our doc, \"Kalman Filters: A step by step implementation guide in python\"\n",
    "'''"
   ]
  },
  {
   "cell_type": "code",
   "execution_count": null,
   "id": "0a479431",
   "metadata": {},
   "outputs": [],
   "source": [
    "from math import * \n",
    "import matplotlib.pyplot as plt\n",
    "import numpy as np\n",
    "\n",
    "#gaussian- function takes in a mean, an x, and a variance squared\n",
    "#returns the gaussian value\n",
    "\n",
    "def f(mu,sigma2,x):\n",
    "    coefficient= 1/sqrt(2*pi*sigma2)\n",
    "    exponential = exp(-.5*(x-mu)**2/sigma2)    \n",
    "    return coefficient*exponential"
   ]
  },
  {
   "cell_type": "code",
   "execution_count": null,
   "id": "43eb8ab3",
   "metadata": {},
   "outputs": [],
   "source": [
    "#update function- takes in 2 means and 2 variances squared\n",
    "#returns updated gaussian parameters\n",
    "\n",
    "def update(mean1,var1,mean2,var2):\n",
    "    new_mean= (var2*mean1+var1*mean2)/(var2+var1)\n",
    "    new_var= 1/(1/var2+1/var1)\n",
    "    return [new_mean, new_var]"
   ]
  },
  {
   "cell_type": "code",
   "execution_count": null,
   "id": "7c919e91",
   "metadata": {},
   "outputs": [],
   "source": [
    "#motion update/predict function- takes in 2 means, 2 squared variances\n",
    "#returns updated gaussian parameters after motion\n",
    "\n",
    "def predict(mean1,var1,mean2,var2):\n",
    "    new_mean= mean1+mean2\n",
    "    new_var= var1+var2\n",
    "    \n",
    "    return [new_mean, new_var]"
   ]
  },
  {
   "cell_type": "code",
   "execution_count": null,
   "id": "79f8d0a0",
   "metadata": {},
   "outputs": [],
   "source": [
    "#example vals \n",
    "\n",
    "measurements= [5,6,7,9,10]\n",
    "motions= [1,1,2,1,1]\n",
    "measurement_sig= 4\n",
    "motion_sig=2\n",
    "mu=0\n",
    "sig=10000\n",
    "\n",
    "\n",
    "for n in range(len(measurements)):\n",
    "    mu, sig = update(mu,sig,measurements[n],measurement_sig)\n",
    "    print(f\"Update: [{mu},{sig}]\")\n",
    "    mu, sig= predict(mu,sig, motions[n],motion_sig)\n",
    "    print(f\"Predict:[{mu},{sig}]\")"
   ]
  },
  {
   "cell_type": "code",
   "execution_count": null,
   "id": "9fe034fa",
   "metadata": {},
   "outputs": [],
   "source": []
  }
 ],
 "metadata": {
  "kernelspec": {
   "display_name": "Python 3 (ipykernel)",
   "language": "python",
   "name": "python3"
  },
  "language_info": {
   "codemirror_mode": {
    "name": "ipython",
    "version": 3
   },
   "file_extension": ".py",
   "mimetype": "text/x-python",
   "name": "python",
   "nbconvert_exporter": "python",
   "pygments_lexer": "ipython3",
   "version": "3.9.7"
  }
 },
 "nbformat": 4,
 "nbformat_minor": 5
}
