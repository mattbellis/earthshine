{
 "cells": [
  {
   "cell_type": "code",
   "execution_count": null,
   "metadata": {},
   "outputs": [],
   "source": [
    "import numpy as np\n",
    "import matplotlib.pylab as plt"
   ]
  },
  {
   "cell_type": "code",
   "execution_count": null,
   "metadata": {},
   "outputs": [],
   "source": [
    "infilename = 'output_step1.npy'\n",
    "\n",
    "allvars = np.load(infilename, allow_pickle=True)"
   ]
  },
  {
   "cell_type": "code",
   "execution_count": null,
   "metadata": {},
   "outputs": [],
   "source": [
    "DTx = allvars[0]\n",
    "DTy = allvars[1]\n",
    "DTz = allvars[2]\n",
    "\n",
    "DTn = allvars[3]\n",
    "DTt = allvars[4]\n",
    "DTdedx = allvars[5]\n",
    "\n",
    "DTx = np.array(DTx)\n",
    "DTy = np.array(DTy)\n",
    "DTz = np.array(DTz)\n",
    "DTn = np.array(DTn)\n",
    "DTt = np.array(DTt)\n",
    "DTdedx = np.array(DTdedx)\n",
    "\n",
    "'''\n",
    "RPCx = allvars[4]\n",
    "RPCy = allvars[5]\n",
    "RPCz = allvars[6]\n",
    "\n",
    "RPCn = allvars[7]\n",
    "\n",
    "RPCx = np.array(RPCx)\n",
    "RPCy = np.array(RPCy)\n",
    "RPCz = np.array(RPCz)\n",
    "RPCn = np.array(RPCn)\n",
    "\n",
    "CSCx = allvars[8]\n",
    "CSCy = allvars[9]\n",
    "CSCz = allvars[10]\n",
    "\n",
    "CSCn = allvars[11]\n",
    "\n",
    "CSx = np.array(CSCx)\n",
    "CSCy = np.array(CSCy)\n",
    "CSCz = np.array(CSCz)\n",
    "CSCn = np.array(CSCn)\n",
    "'''"
   ]
  },
  {
   "cell_type": "code",
   "execution_count": null,
   "metadata": {},
   "outputs": [],
   "source": [
    "plt.figure()\n",
    "plt.plot(DTx,DTy,'.',alpha=0.01)\n",
    "\n"
   ]
  },
  {
   "cell_type": "code",
   "execution_count": null,
   "metadata": {},
   "outputs": [],
   "source": [
    "def plot_all(x,y,z,t,dedx):\n",
    "\n",
    "    plt.figure(figsize=(18,6))\n",
    "    plt.subplot(1,3,1)\n",
    "    plt.plot(x,y,\".\")\n",
    "    plt.subplot(1,3,2)\n",
    "    plt.plot(y,z,\".\")\n",
    "    plt.subplot(1,3,3)\n",
    "    plt.plot(x,z,\".\")\n",
    "    \n",
    "    plt.figure(figsize=(8,4))\n",
    "    plt.subplot(1,2,1)\n",
    "    plt.hist(t,bins=50,range=(0,120))\n",
    "    \n",
    "    plt.subplot(1,2,2)\n",
    "    plt.hist(dedx,bins=50, range=(0,3e-5))\n",
    "    \n",
    "    plt.figure(figsize=(8,4))\n",
    "    plt.hist(t,bins=70,range=(0,70))\n",
    "    "
   ]
  },
  {
   "cell_type": "code",
   "execution_count": null,
   "metadata": {},
   "outputs": [],
   "source": [
    "plot_all(DTx, DTy, DTz, DTt, DTdedx)"
   ]
  },
  {
   "cell_type": "code",
   "execution_count": null,
   "metadata": {},
   "outputs": [],
   "source": [
    "#plt.hist(z,bins=100,range=(-0.1, 0.1));"
   ]
  },
  {
   "cell_type": "code",
   "execution_count": null,
   "metadata": {},
   "outputs": [],
   "source": [
    "'''\n",
    "#%matplotlib qt\n",
    "%matplotlib inline\n",
    "\n",
    "fig = plt.figure(figsize=(8,8))\n",
    "ax = plt.axes(projection='3d')\n",
    "ax.scatter3D(x, y, z, s=1)\n",
    "'''\n"
   ]
  },
  {
   "cell_type": "code",
   "execution_count": null,
   "metadata": {},
   "outputs": [],
   "source": [
    "def plot_an_event(xall,yall,zall,tall,dedxall,n,N=0):\n",
    "    # Get an event\n",
    "    #N = 10 # This is the event we will get\n",
    "\n",
    "    if N == 0:\n",
    "        idx0 = 0\n",
    "        idx1 = n[N]\n",
    "    else:\n",
    "        idx0 = np.sum(n[:N])\n",
    "        idx1 = idx0 + n[N]\n",
    "\n",
    "    print(n[N], idx0, idx1)\n",
    "\n",
    "    x = xall[idx0:idx1]\n",
    "    y = yall[idx0:idx1]\n",
    "    z = zall[idx0:idx1]\n",
    "    \n",
    "    t = tall[idx0:idx1]\n",
    "    dedx = dedxall[idx0:idx1]\n",
    "    \n",
    "    plot_all(x,y,z,t,dedx)\n",
    "    return t\n",
    "    #plt.figure()\n",
    "    #plt.plot(xpts,ypts,'.')"
   ]
  },
  {
   "cell_type": "code",
   "execution_count": null,
   "metadata": {},
   "outputs": [],
   "source": [
    "plot_an_event(DTx,DTy, DTz, DTt, DTdedx, DTn, N=750)\n"
   ]
  },
  {
   "cell_type": "code",
   "execution_count": null,
   "metadata": {},
   "outputs": [],
   "source": [
    "from matplotlib.animation import FuncAnimation\n",
    "from matplotlib import rc\n",
    "import numpy as np\n",
    "import matplotlib.pylab as plt"
   ]
  },
  {
   "cell_type": "code",
   "execution_count": null,
   "metadata": {},
   "outputs": [],
   "source": []
  },
  {
   "cell_type": "code",
   "execution_count": null,
   "metadata": {},
   "outputs": [],
   "source": [
    "\n",
    "\n",
    "t = DTt\n",
    "x = DTx\n",
    "y = DTy\n",
    "\n",
    "sorted_indices = np.argsort(t)\n",
    "print(sorted_indices)\n",
    "\n",
    "\n",
    "print(\"Original time\")\n",
    "print(t)\n",
    "print()\n",
    "\n",
    "print(\"Sorted times and space\")\n",
    "print(t[sorted_indices])\n",
    "print(x[sorted_indices])\n",
    "print(y[sorted_indices])\n",
    "print()\n"
   ]
  },
  {
   "cell_type": "code",
   "execution_count": null,
   "metadata": {},
   "outputs": [],
   "source": [
    "# This can take a while, depending on how many frames you are generating\n",
    "#  so be patient!\n",
    "\n",
    "fig = plt.figure()\n",
    "\n",
    "ntimesteps = 100\n",
    "\n",
    "ax = plt.axes(xlim=(0,100.0), ylim=(0,100))\n",
    "\n",
    "point, = ax.plot( [], [], 'ro', markersize=10)\n",
    "\n",
    "def init():\n",
    "  point.set_data([], [])\n",
    "  return point, # Note the comma at the end here!!!!!\n",
    "\n",
    "def animate(i):\n",
    "  # Get the indices from the sorted array\n",
    "  idx = sorted_indices[i]\n",
    "\n",
    "  # Use this index to access the x- and y-position\n",
    "  xpts = x[idx]\n",
    "  ypts = y[idx] \n",
    "  point.set_data(xpts,ypts)\n",
    "\n",
    "  return point,\n",
    "\n",
    "\n",
    "anim = FuncAnimation(fig, animate, init_func=init,\n",
    "                               frames=ntimesteps, interval=20, blit=True)\n",
    "\n",
    "# We need this so it doesn't draw an extra figure\n",
    "plt.close()\n"
   ]
  },
  {
   "cell_type": "code",
   "execution_count": null,
   "metadata": {
    "scrolled": true
   },
   "outputs": [],
   "source": [
    "# Now do the animation\n",
    "rc('animation', html='jshtml')\n",
    "anim "
   ]
  },
  {
   "cell_type": "code",
   "execution_count": null,
   "metadata": {},
   "outputs": [],
   "source": []
  },
  {
   "cell_type": "code",
   "execution_count": null,
   "metadata": {},
   "outputs": [],
   "source": []
  }
 ],
 "metadata": {
  "kernelspec": {
   "display_name": "Python 3",
   "language": "python",
   "name": "python3"
  },
  "language_info": {
   "codemirror_mode": {
    "name": "ipython",
    "version": 3
   },
   "file_extension": ".py",
   "mimetype": "text/x-python",
   "name": "python",
   "nbconvert_exporter": "python",
   "pygments_lexer": "ipython3",
   "version": "3.7.4"
  }
 },
 "nbformat": 4,
 "nbformat_minor": 5
}
