{
 "cells": [
  {
   "cell_type": "code",
   "execution_count": null,
   "metadata": {},
   "outputs": [],
   "source": [
    "import numpy as np\n",
    "import matplotlib.pylab as plt"
   ]
  },
  {
   "cell_type": "code",
   "execution_count": null,
   "metadata": {},
   "outputs": [],
   "source": [
    "infilename = 'output_step1.npy'\n",
    "\n",
    "allvars = np.load(infilename, allow_pickle=True)"
   ]
  },
  {
   "cell_type": "code",
   "execution_count": null,
   "metadata": {},
   "outputs": [],
   "source": [
    "x = allvars[0]\n",
    "y = allvars[1]\n",
    "z = allvars[2]\n",
    "\n",
    "n = allvars[3]\n",
    "\n",
    "x = np.array(x)\n",
    "y = np.array(y)\n",
    "z = np.array(z)\n",
    "n = np.array(n)\n",
    "\n",
    "RPCx = allvars[4]\n",
    "RPCy = allvars[5]\n",
    "RPCz = allvars[6]\n",
    "\n",
    "RPCn = allvars[7]\n",
    "\n",
    "RPCx = np.array(RPCx)\n",
    "RPCy = np.array(RPCy)\n",
    "RPCz = np.array(RPCz)\n",
    "RPCn = np.array(RPCn)\n",
    "\n",
    "CSCx = allvars[8]\n",
    "CSCy = allvars[9]\n",
    "CSCz = allvars[10]\n",
    "\n",
    "CSCn = allvars[11]\n",
    "\n",
    "CSx = np.array(CSCx)\n",
    "CSCy = np.array(CSCy)\n",
    "CSCz = np.array(CSCz)\n",
    "CSCn = np.array(CSCn)"
   ]
  },
  {
   "cell_type": "code",
   "execution_count": null,
   "metadata": {},
   "outputs": [],
   "source": [
    "plt.figure()\n",
    "plt.plot(x,y,'.')\n",
    "\n",
    "plt.figure()\n",
    "plt.plot(RPCx,RPCy,\"g*\")"
   ]
  },
  {
   "cell_type": "code",
   "execution_count": null,
   "metadata": {},
   "outputs": [],
   "source": [
    "plt.figure(figsize=(18,6))\n",
    "plt.subplot(1,3,1)\n",
    "plt.plot(RPCx,RPCy,\".\")\n",
    "plt.subplot(1,3,2)\n",
    "plt.plot(RPCy,RPCz,\".\")\n",
    "plt.subplot(1,3,3)\n",
    "plt.plot(RPCx,RPCz,\".\")"
   ]
  },
  {
   "cell_type": "code",
   "execution_count": null,
   "metadata": {},
   "outputs": [],
   "source": [
    "plt.plot(x,z,'.')"
   ]
  },
  {
   "cell_type": "code",
   "execution_count": null,
   "metadata": {},
   "outputs": [],
   "source": [
    "plt.plot(y,z,'.')"
   ]
  },
  {
   "cell_type": "code",
   "execution_count": null,
   "metadata": {},
   "outputs": [],
   "source": [
    "r = np.sqrt(x**2 + y**2)\n",
    "plt.hist(r,bins=50);"
   ]
  },
  {
   "cell_type": "code",
   "execution_count": null,
   "metadata": {},
   "outputs": [],
   "source": [
    "plt.hist(z,bins=100,range=(-0.1, 0.1));"
   ]
  },
  {
   "cell_type": "code",
   "execution_count": null,
   "metadata": {},
   "outputs": [],
   "source": [
    "'''\n",
    "#%matplotlib qt\n",
    "%matplotlib inline\n",
    "\n",
    "fig = plt.figure(figsize=(8,8))\n",
    "ax = plt.axes(projection='3d')\n",
    "ax.scatter3D(x, y, z, s=1)\n",
    "'''\n"
   ]
  },
  {
   "cell_type": "code",
   "execution_count": null,
   "metadata": {},
   "outputs": [],
   "source": [
    "plt.figure(figsize=(18,6))\n",
    "plt.subplot(1,3,1)\n",
    "plt.plot(CSCx,CSCy,\".\")\n",
    "plt.subplot(1,3,2)\n",
    "plt.plot(CSCy,CSCz,\".\")\n",
    "plt.subplot(1,3,3)\n",
    "plt.plot(CSCx,CSCz,\".\")"
   ]
  },
  {
   "cell_type": "code",
   "execution_count": null,
   "metadata": {},
   "outputs": [],
   "source": []
  }
 ],
 "metadata": {
  "kernelspec": {
   "display_name": "Python 3",
   "language": "python",
   "name": "python3"
  },
  "language_info": {
   "codemirror_mode": {
    "name": "ipython",
    "version": 3
   },
   "file_extension": ".py",
   "mimetype": "text/x-python",
   "name": "python",
   "nbconvert_exporter": "python",
   "pygments_lexer": "ipython3",
   "version": "3.7.4"
  }
 },
 "nbformat": 4,
 "nbformat_minor": 5
}
