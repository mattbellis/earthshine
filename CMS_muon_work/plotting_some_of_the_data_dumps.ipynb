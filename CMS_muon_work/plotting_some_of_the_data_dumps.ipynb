{
 "cells": [
  {
   "cell_type": "code",
   "execution_count": null,
   "id": "4bdfe465",
   "metadata": {},
   "outputs": [],
   "source": [
    "import numpy as np\n",
    "import matplotlib.pylab as plt"
   ]
  },
  {
   "cell_type": "code",
   "execution_count": null,
   "id": "0b9b8bb2",
   "metadata": {},
   "outputs": [],
   "source": [
    "infilename = 'output_step1.npy'\n",
    "\n",
    "allvars = np.load(infilename, allow_pickle=True)"
   ]
  },
  {
   "cell_type": "code",
   "execution_count": null,
   "id": "0c78208f",
   "metadata": {},
   "outputs": [],
   "source": [
    "x = allvars[0]\n",
    "y = allvars[1]\n",
    "z = allvars[2]\n",
    "\n",
    "n = allvars[3]\n",
    "\n",
    "x = np.array(x)\n",
    "y = np.array(y)\n",
    "z = np.array(z)\n",
    "n = np.array(n)"
   ]
  },
  {
   "cell_type": "code",
   "execution_count": null,
   "id": "48464c54",
   "metadata": {},
   "outputs": [],
   "source": [
    "plt.figure()\n",
    "plt.plot(x,y,'.')"
   ]
  },
  {
   "cell_type": "code",
   "execution_count": null,
   "id": "9d1cf890",
   "metadata": {},
   "outputs": [],
   "source": [
    "plt.plot(x,z,'.')"
   ]
  },
  {
   "cell_type": "code",
   "execution_count": null,
   "id": "1f0a35c9",
   "metadata": {},
   "outputs": [],
   "source": [
    "plt.plot(y,z,'.')"
   ]
  },
  {
   "cell_type": "code",
   "execution_count": null,
   "id": "7dc6ffc3",
   "metadata": {},
   "outputs": [],
   "source": [
    "r = np.sqrt(x**2 + y**2)\n",
    "plt.hist(r,bins=50);"
   ]
  },
  {
   "cell_type": "code",
   "execution_count": null,
   "id": "47ec9db0",
   "metadata": {},
   "outputs": [],
   "source": [
    "plt.hist(z,bins=100,range=(-0.1, 0.1));"
   ]
  },
  {
   "cell_type": "code",
   "execution_count": null,
   "id": "7e0f93f7",
   "metadata": {},
   "outputs": [],
   "source": []
  }
 ],
 "metadata": {
  "kernelspec": {
   "display_name": "Python 3",
   "language": "python",
   "name": "python3"
  },
  "language_info": {
   "codemirror_mode": {
    "name": "ipython",
    "version": 3
   },
   "file_extension": ".py",
   "mimetype": "text/x-python",
   "name": "python",
   "nbconvert_exporter": "python",
   "pygments_lexer": "ipython3",
   "version": "3.8.8"
  }
 },
 "nbformat": 4,
 "nbformat_minor": 5
}
