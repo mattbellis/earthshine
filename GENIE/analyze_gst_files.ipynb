{
 "cells": [
  {
   "cell_type": "code",
   "execution_count": null,
   "id": "bd326f86-b6a7-44b6-8caf-fea80a74f10c",
   "metadata": {},
   "outputs": [],
   "source": [
    "import numpy as np\n",
    "import awkward as ak\n",
    "import uproot\n",
    "\n",
    "import matplotlib.pylab as plt\n",
    "\n",
    "import glob\n",
    "\n",
    "import natsort"
   ]
  },
  {
   "cell_type": "code",
   "execution_count": null,
   "id": "2fa7ef48-aadb-4a2d-b57e-23967da2a0b5",
   "metadata": {},
   "outputs": [],
   "source": [
    "#path = '/home/bellis/' \n",
    "path = '/home/physics_analysis/' \n",
    "\n",
    "\n",
    "path += 'gntp*neutrino*rock_energy*.gst.root'\n",
    "files = glob.glob(path)\n",
    "\n",
    "files"
   ]
  },
  {
   "cell_type": "code",
   "execution_count": null,
   "id": "7659d0ba-5d8d-4b9a-b395-68ec76411537",
   "metadata": {},
   "outputs": [],
   "source": [
    "files = sorted(files)\n",
    "\n",
    "files = natsort.natsorted(files)\n",
    "\n",
    "files"
   ]
  },
  {
   "cell_type": "code",
   "execution_count": null,
   "id": "a3d4f9e9-d873-44a5-91ba-5c960a734d1b",
   "metadata": {},
   "outputs": [],
   "source": [
    "print(len(files))"
   ]
  },
  {
   "cell_type": "code",
   "execution_count": null,
   "id": "afd7f0a3-ba44-435f-943e-0c8e0a1d75f4",
   "metadata": {},
   "outputs": [],
   "source": [
    "plt.figure()\n",
    "\n",
    "for file in files[0:]:\n",
    "    print(file)\n",
    "    with uproot.open(file) as f:\n",
    "\n",
    "        if len(f.keys())==0:\n",
    "            continue\n",
    "            \n",
    "        t = f['gst']\n",
    "    \n",
    "        xsec = t['XSec'].array() # 1e-38 cm^2\n",
    "        #xsec = xsec*1e-38\n",
    "\n",
    "        enu = t['Ev'].array()\n",
    "\n",
    "        #print(enu)\n",
    "    \n",
    "        plt.plot(enu,xsec/enu,'.',label=f'{enu[0]} GeV')\n",
    "#plt.xscale('log')\n",
    "plt.legend()\n",
    "plt.xlabel(r'E$_{\\nu}$ (GeV)', fontsize=18)\n",
    "plt.ylabel(r'$\\sigma / E_{\\nu}$ (10$^{-38}$ cm$^2$ / GeV)', fontsize=18)\n",
    "\n",
    "plt.savefig('xsec_vs_enu.png')"
   ]
  },
  {
   "cell_type": "code",
   "execution_count": null,
   "id": "dd08cdbf-a03f-4efe-b57e-2dc8647bc684",
   "metadata": {},
   "outputs": [],
   "source": [
    "plt.figure(figsize=(8,8))\n",
    "\n",
    "for i,file in enumerate(files):#[0:1]:\n",
    "    print(file)\n",
    "    with uproot.open(file) as f:\n",
    "\n",
    "        if len(f.keys())==0:\n",
    "            continue\n",
    "        \n",
    "        t = f['gst']\n",
    "    \n",
    "        xsec = t['XSec'].array() # 1e-38 cm^2\n",
    "        xsec = xsec*1e-38\n",
    "\n",
    "        enu = t['Ev'].array()\n",
    "\n",
    "        #print(enu)\n",
    "        plt.subplot(4,4,i+1)\n",
    "        plt.hist(xsec/enu,bins=50)\n",
    "        \n",
    "        #plt.plot(enu,xsec/enu,'.',label=f'{enu[0]} GeV')\n",
    "#plt.xscale('log')\n",
    "plt.legend()"
   ]
  },
  {
   "cell_type": "code",
   "execution_count": null,
   "id": "7aedc846-45ea-4280-9524-42b3af467188",
   "metadata": {},
   "outputs": [],
   "source": [
    "print(t.keys())"
   ]
  },
  {
   "cell_type": "code",
   "execution_count": null,
   "id": "48d8cfa5-25cd-4dca-b11d-abf235492579",
   "metadata": {},
   "outputs": [],
   "source": [
    "plt.figure(figsize=(12,12))\n",
    "\n",
    "for i,file in enumerate(files):#[0:1]:\n",
    "    print(file)\n",
    "    with uproot.open(file) as f:\n",
    "\n",
    "        if len(f.keys())==0:\n",
    "            continue\n",
    "        \n",
    "        t = f['gst']\n",
    "    \n",
    "        npi = t['nfpip'].array() + t['nfpim'].array()\n",
    "        nk = t['nfkm'].array() + t['nfkp'].array()\n",
    "        \n",
    "        enu = t['Ev'].array()\n",
    "\n",
    "        #print(enu)\n",
    "        plt.subplot(4,4,i+1)\n",
    "        plt.hist(npi,bins=10, range=(0,10),label=r'# $\\pi$')\n",
    "        plt.hist(nk,bins=10, range=(0,10),label=r'# K', alpha=0.4)\n",
    "        plt.title(f'En: {enu[0]} GeV')\n",
    "        \n",
    "        #plt.plot(enu,xsec/enu,'.',label=f'{enu[0]} GeV')\n",
    "        #plt.xscale('log')\n",
    "        plt.legend()\n",
    "plt.tight_layout()\n",
    "\n",
    "plt.savefig('pion_kaon_multiplicity.png')"
   ]
  },
  {
   "cell_type": "code",
   "execution_count": null,
   "id": "a0529aeb-a34b-40df-bc75-772c6022ebe7",
   "metadata": {},
   "outputs": [],
   "source": [
    "t['Ev'].array()"
   ]
  },
  {
   "cell_type": "code",
   "execution_count": null,
   "id": "c0e6e6c9-9e20-41e2-bb67-a7772d2a919c",
   "metadata": {},
   "outputs": [],
   "source": [
    "mask = t['cc'].array()==True\n",
    "t['XSec'].array()[mask]"
   ]
  },
  {
   "cell_type": "code",
   "execution_count": null,
   "id": "23a83387-883e-4d24-8d06-c4b1de0bc323",
   "metadata": {
    "scrolled": true
   },
   "outputs": [],
   "source": [
    "#plt.figure(figsize=(12,8))\n",
    "\n",
    "for i,file in enumerate(files):#[0:1]:\n",
    "    print(file)\n",
    "    with uproot.open(file) as f:\n",
    "\n",
    "        if len(f.keys())==0:\n",
    "            continue\n",
    "        \n",
    "        t = f['gst']\n",
    "    \n",
    "        #xsec = t['XSec'].array() # 1e-38 cm^2\n",
    "        xsec = xsec*1e-38\n",
    "\n",
    "        enu = t['Ev'].array()\n",
    "        el = t['El'].array()\n",
    "        \n",
    "        cc = t['cc'].array()\n",
    "        qel = t['qel'].array()\n",
    "\n",
    "        #mask = cc==True\n",
    "        mask = qel==True\n",
    "        \n",
    "        #el = el[mask]\n",
    "\n",
    "        #print(enu)\n",
    "        plt.figure(figsize=(4,4))\n",
    "        #plt.subplot(4,4,i+1)\n",
    "        #plt.hist(el,bins=50, range=(0,1000),label=f'{enu[0]} GeV')\n",
    "        plt.hist(el,bins=50, label=f'En: {enu[0]} GeV')\n",
    "        \n",
    "        #plt.plot(enu,xsec/enu,'.',label=f'{enu[0]} GeV')\n",
    "        #plt.xscale('log')\n",
    "        plt.legend()\n",
    "\n",
    "        outfile = f'PLOT_Enu_{int(enu[0])}_muon_energy.png'\n",
    "        print(outfile)\n",
    "        \n",
    "        plt.savefig(outfile)"
   ]
  },
  {
   "cell_type": "code",
   "execution_count": null,
   "id": "98fba9a8-2fe6-45b8-bf91-d314792b686f",
   "metadata": {},
   "outputs": [],
   "source": [
    "print(t.keys())"
   ]
  },
  {
   "cell_type": "code",
   "execution_count": null,
   "id": "8018bfcc-170e-480e-bff5-b4dc1340da66",
   "metadata": {},
   "outputs": [],
   "source": [
    "#plt.figure(figsize=(12,8))\n",
    "\n",
    "for i,file in enumerate(files):#[0:1]:\n",
    "    print(file)\n",
    "    with uproot.open(file) as f:\n",
    "\n",
    "        if len(f.keys())==0:\n",
    "            continue\n",
    "        \n",
    "        t = f['gst']\n",
    "    \n",
    "        #xsec = t['XSec'].array() # 1e-38 cm^2\n",
    "        xsec = xsec*1e-38\n",
    "\n",
    "        enu = t['Ev'].array()\n",
    "        ef = t['Ef'].array()\n",
    "        pdg = t['pdgf'].array()\n",
    "        \n",
    "        mask = (pdg==211) | (pdg==-211)\n",
    "        ef = ef[mask]\n",
    "\n",
    "        \n",
    "        #el = el[mask]\n",
    "\n",
    "        #print(enu)\n",
    "        plt.figure(figsize=(4,4))\n",
    "        #plt.subplot(4,4,i+1)\n",
    "        #plt.hist(el,bins=50, range=(0,1000),label=f'{enu[0]} GeV')\n",
    "        plt.hist(ak.flatten(ef),bins=50, label=f'En: {enu[0]} GeV')\n",
    "        \n",
    "        #plt.plot(enu,xsec/enu,'.',label=f'{enu[0]} GeV')\n",
    "        #plt.xscale('log')\n",
    "        plt.legend()\n",
    "\n",
    "        outfile = f'PLOT_Enu_{int(enu[0])}_pion_energy.png'\n",
    "        print(outfile)\n",
    "        \n",
    "        plt.savefig(outfile)"
   ]
  },
  {
   "cell_type": "code",
   "execution_count": null,
   "id": "ade5154b-eb71-4f72-8485-55b5167df45d",
   "metadata": {},
   "outputs": [],
   "source": []
  }
 ],
 "metadata": {
  "kernelspec": {
   "display_name": "Python 3 (ipykernel)",
   "language": "python",
   "name": "python3"
  },
  "language_info": {
   "codemirror_mode": {
    "name": "ipython",
    "version": 3
   },
   "file_extension": ".py",
   "mimetype": "text/x-python",
   "name": "python",
   "nbconvert_exporter": "python",
   "pygments_lexer": "ipython3",
   "version": "3.11.10"
  }
 },
 "nbformat": 4,
 "nbformat_minor": 5
}
