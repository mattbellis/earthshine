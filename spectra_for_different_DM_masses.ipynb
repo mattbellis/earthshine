{
 "cells": [
  {
   "cell_type": "code",
   "execution_count": null,
   "id": "a14395e4",
   "metadata": {
    "id": "a14395e4"
   },
   "outputs": [],
   "source": [
    "import matplotlib.pylab as plt\n",
    "import numpy as np\n",
    "import scipy.integrate as integrate\n",
    "\n",
    "# This will reload modules that have been edited\n",
    "%load_ext autoreload\n",
    "%autoreload 2\n"
   ]
  },
  {
   "cell_type": "code",
   "execution_count": null,
   "id": "pdgUrHE5XeBZ",
   "metadata": {
    "id": "pdgUrHE5XeBZ"
   },
   "outputs": [],
   "source": [
    "# Uncomment when running on Colab\n",
    "#!pip install git+https://github.com/mattbellis/earthshine"
   ]
  },
  {
   "cell_type": "code",
   "execution_count": null,
   "id": "OC8rPXkZXcsT",
   "metadata": {
    "id": "OC8rPXkZXcsT"
   },
   "outputs": [],
   "source": [
    "import earthshine as etools "
   ]
  },
  {
   "cell_type": "code",
   "execution_count": null,
   "id": "24c4ecfb",
   "metadata": {
    "id": "24c4ecfb",
    "scrolled": false
   },
   "outputs": [],
   "source": [
    "density = 1.6e30 # Number of nucleons per m3?\n",
    "#density_m3 = density_kg * ( 6e26) # Number of nucleons per kg\n",
    "\n",
    "length = 1 # length of \"target\" in meters?\n",
    "\n",
    "CMS_length = 21 # meters\n",
    "CMS_width = 15 # meters\n",
    "area_of_CMS = CMS_length*CMS_width \n",
    "\n",
    "area_of_CMS /= 2 \n",
    "# This is just because the cross section \"looks\" different from\n",
    "# different angles, so this is just a guesstimate. \n",
    "\n",
    "\n",
    "plt.figure(figsize=(10,8))\n",
    "\n",
    "markerstyles = ['o', 's', 'v', '^', 'P', 'D']\n",
    "\n",
    "# Loop over different energies\n",
    "\n",
    "for icount,elo in enumerate(range(20, 120, 20)):\n",
    "\n",
    "    #elo = 100\n",
    "    #ehi = 101\n",
    "    ehi = elo + 1\n",
    "    print(elo,ehi)\n",
    "    \n",
    "    energy = np.linspace(elo,ehi,1)\n",
    "    print(energy)\n",
    "    final_energies = np.linspace(1,200,10000)\n",
    "\n",
    "    # Let's do the calculations for many chunks of rock\n",
    "    N_at_CMS = np.zeros(len(final_energies))\n",
    "\n",
    "    # These will be at different distances from CMS\n",
    "\n",
    "    #plt.figure()\n",
    "    for distance in range(1,200,1):\n",
    "\n",
    "        # Calculate the number of neutrinos coming out for 1 m^2 of rock of length=length\n",
    "        # per steradian, at some given energy\n",
    "        N = np.ones(len(energy))\n",
    "\n",
    "        # What is the solid angle at this distance?\n",
    "        Omega = etools.solid_angle(CMS_length, CMS_width/2, distance)\n",
    "        N *= Omega\n",
    "\n",
    "        # How \"many\" of these 1m^2 chunks are there at distance=distance\n",
    "        # *below* CMS (hemisphere)\n",
    "        hemisphere_area = 2*np.pi*(distance**2) # in m^2\n",
    "        N *= hemisphere_area\n",
    "\n",
    "        #print(f\"distance: {distance}   Omega: {Omega}     A_hemi: {hemisphere_area}\")\n",
    "\n",
    "        # Attenuation -- energy loss!\n",
    "        N_at_CMS_from_this_distance = np.zeros(len(final_energies))\n",
    "        for i,e in enumerate(energy):\n",
    "            ke_final= etools.energy_loss_per_distance_traveled(e*1e9, distance, step_size=.1)\n",
    "            ke_final /= 1e9\n",
    "            #print(ke_final)\n",
    "\n",
    "            # Fill the array that represents the final spectra\n",
    "            #idx, central = etools.find_the_number(ke_final, energy)\n",
    "            idx, central = etools.find_the_number(ke_final, final_energies)\n",
    "\n",
    "            #print(e, ke_final, idx, central)\n",
    "            if idx is not None:\n",
    "              # N is the number coming out of the 1m^2 rock at distance=distance\n",
    "              # N_at_CMS is the number of muons measured at CMS as different energies\n",
    "              N_at_CMS_from_this_distance[idx] += N[i]\n",
    "            #else:\n",
    "              #print(e, ke_final, idx, central)\n",
    "\n",
    "        #print(N_at_CMS_from_this_distance)\n",
    "        N_at_CMS += N_at_CMS_from_this_distance\n",
    "\n",
    "        # For debugging\n",
    "        #if distance%20==0:\n",
    "        #    plt.plot(final_energies,N_at_CMS_from_this_distance,label=f'distance={distance} m')\n",
    "        #if distance%10==0:\n",
    "        #   plt.plot(final_energies,N_at_CMS_from_this_distance,label=f'distance={distance} m')\n",
    "    #plt.xscale('log')\n",
    "    #plt.xlabel(\"energy\",fontsize=14)\n",
    "    #plt.ylabel(\"number\",fontsize=14)\n",
    "    ##plt.title(\"energy vs number at CMS (per second)\")\n",
    "    ##plt.savefig(\"energy_vs_number_per_second\")\n",
    "    ###plt.yscale('log')\n",
    "    #plt.legend()\n",
    "\n",
    "\n",
    "\n",
    "    # Now do for CMS \n",
    "    #plt.figure()\n",
    "    #plt.plot(energy, N)\n",
    "    \n",
    "    plt.plot(final_energies, N_at_CMS,markerstyles[icount],label=fr'DM candidate mass {elo} GeV/c$^2$')\n",
    "#plt.xscale('log')\n",
    "#plt.yscale('log')\n",
    "plt.xlabel('Energy of muons arriving at CMS (GeV)',fontsize=18)\n",
    "plt.ylabel('Number of muons arriving at CMS (arb)',fontsize=18)\n",
    "\n",
    "plt.legend(fontsize=14, markerscale=2)\n",
    "plt.savefig('muon_spectra_earthshine.png')\n"
   ]
  },
  {
   "cell_type": "code",
   "execution_count": null,
   "id": "23d0a389",
   "metadata": {
    "id": "23d0a389"
   },
   "outputs": [],
   "source": [
    "plt.figure()\n",
    "#plt.plot(energy, N)\n",
    "plt.plot(final_energies, N_at_CMS,'.',label='# muons at CMS/s')\n",
    "#plt.xscale('log')\n",
    "#plt.yscale('log')\n",
    "plt.xlim(0,25)\n",
    "\n",
    "plt.legend()\n"
   ]
  },
  {
   "cell_type": "code",
   "execution_count": null,
   "id": "9a2e54e6",
   "metadata": {
    "id": "9a2e54e6"
   },
   "outputs": [],
   "source": [
    "plt.figure()\n",
    "#plt.plot(energy, N)\n",
    "plt.plot(final_energies, N_at_CMS,label='# muons at CMS/s')\n",
    "#plt.xscale('log')\n",
    "#plt.yscale('log')\n",
    "\n",
    "plt.legend()"
   ]
  },
  {
   "cell_type": "code",
   "execution_count": null,
   "id": "eea7082f",
   "metadata": {
    "id": "eea7082f"
   },
   "outputs": [],
   "source": []
  },
  {
   "cell_type": "code",
   "execution_count": null,
   "id": "f0d27ca9",
   "metadata": {},
   "outputs": [],
   "source": []
  }
 ],
 "metadata": {
  "colab": {
   "provenance": []
  },
  "kernelspec": {
   "display_name": "Python 3 (ipykernel)",
   "language": "python",
   "name": "python3"
  },
  "language_info": {
   "codemirror_mode": {
    "name": "ipython",
    "version": 3
   },
   "file_extension": ".py",
   "mimetype": "text/x-python",
   "name": "python",
   "nbconvert_exporter": "python",
   "pygments_lexer": "ipython3",
   "version": "3.9.7"
  }
 },
 "nbformat": 4,
 "nbformat_minor": 5
}
