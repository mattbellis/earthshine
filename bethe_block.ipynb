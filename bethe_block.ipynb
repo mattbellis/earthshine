{
  "nbformat": 4,
  "nbformat_minor": 0,
  "metadata": {
    "colab": {
      "name": "bethe_block.ipynb",
      "provenance": [],
      "include_colab_link": true
    },
    "kernelspec": {
      "name": "python3",
      "display_name": "Python 3"
    },
    "language_info": {
      "name": "python"
    }
  },
  "cells": [
    {
      "cell_type": "markdown",
      "metadata": {
        "id": "view-in-github",
        "colab_type": "text"
      },
      "source": [
        "<a href=\"https://colab.research.google.com/github/mattbellis/earthshine/blob/main/bethe_block.ipynb\" target=\"_parent\"><img src=\"https://colab.research.google.com/assets/colab-badge.svg\" alt=\"Open In Colab\"/></a>"
      ]
    },
    {
      "cell_type": "code",
      "source": [
        "import numpy as np"
      ],
      "metadata": {
        "id": "5EypglGq4zqR"
      },
      "execution_count": 10,
      "outputs": []
    },
    {
      "cell_type": "code",
      "execution_count": 11,
      "metadata": {
        "id": "ZxP_zEbs4m7i"
      },
      "outputs": [],
      "source": [
        "def my_beta(mass,ke):\n",
        "\n",
        "  etot = mass + ke\n",
        "  p = np.sqrt(etot**2 - mass**2)\n",
        "\n",
        "  beta = p/etot\n",
        "\n",
        "  return beta\n",
        "##########################################################\n",
        "\n",
        "###############################################################\n",
        "# We'll pass in the energy and mass in eV\n",
        "#\n",
        "# Everything else will be calculated in SI units, save for the\n",
        "# density\n",
        "###############################################################\n",
        "def bethe_formula(ke, mass, Z=10, A=18, rho=1):\n",
        "  \n",
        "  m_e = 9.1e-31   # kg\n",
        "  r_e = 2.8e-15 # meters\n",
        "  c = 3e8         # m/s\n",
        "  N_A = 6.022e23\n",
        "\n",
        "  A *= 0.001 # Convert the atomic weight to kg\n",
        "\n",
        "  z = 1     # electrons\n",
        "  echarge = 1.6e-19\n",
        "\n",
        "  # Let energy be in eV\n",
        "  beta = my_beta(mass,ke)\n",
        "  gamma = 1/np.sqrt(1-beta**2)\n",
        "  \n",
        "  I = 10 * Z * 1.6e-19\n",
        "\n",
        "  term1 = 4*np.pi*N_A*(r_e**2)*m_e*(c**2)*(Z/A)*(z**2/beta**2)\n",
        "\n",
        "  term2 = np.log((2*m_e*(c**2)*(beta**2)*(gamma**2))/I) - (beta**2)\n",
        "  \n",
        "  dedx = term1*term2\n",
        "  \n",
        "  dedx *= rho\n",
        "\n",
        "  # dedx is in Joules/m so let's convert it to eV/m\n",
        "  dedx /= 1.6e-19\n",
        "\n",
        "  return dedx"
      ]
    },
    {
      "cell_type": "code",
      "source": [
        "import sys\n",
        "import matplotlib.pylab as plt\n",
        "import numpy as np\n",
        "#import earthshine_tools as etools\n",
        "\n",
        "'''\n",
        "The distance is what you unit convert, not the kinetic energy\n",
        "since the kinetic energy is different from the distance the particle \n",
        "travels.\n",
        "'''\n"
      ],
      "metadata": {
        "id": "VgujTj7N42MQ",
        "colab": {
          "base_uri": "https://localhost:8080/",
          "height": 53
        },
        "outputId": "4655d507-596b-456c-8471-0728543fc0bc"
      },
      "execution_count": 12,
      "outputs": [
        {
          "output_type": "execute_result",
          "data": {
            "text/plain": [
              "'\\nThe distance is what you unit convert, not the kinetic energy\\nsince the kinetic energy is different from the distance the particle \\ntravels.\\n'"
            ],
            "application/vnd.google.colaboratory.intrinsic+json": {
              "type": "string"
            }
          },
          "metadata": {},
          "execution_count": 12
        }
      ]
    },
    {
      "cell_type": "code",
      "source": [
        "ke = np.linspace(1e6,1e9,10000)\n",
        "mass=.105e9\n",
        "\n",
        "dedx = bethe_formula(ke,mass, Z=30, A=60, rho=2000)\n",
        "dedx /= 1e6 # Convert from eV/m to MeV/m\n",
        "\n",
        "dedx /= 1e2 # Convert from MeV/m to MeV/cm\n",
        "\n",
        "plt.figure(figsize=(9,6))\n",
        "plt.plot(ke,dedx)\n",
        "plt.yscale('log')\n",
        "plt.xscale('log')"
      ],
      "metadata": {
        "colab": {
          "base_uri": "https://localhost:8080/",
          "height": 378
        },
        "id": "HdcDybnq_PVE",
        "outputId": "7e7ae103-b385-45fb-9a4a-c95bf90e4774"
      },
      "execution_count": 13,
      "outputs": [
        {
          "output_type": "display_data",
          "data": {
            "text/plain": [
              "<Figure size 648x432 with 1 Axes>"
            ],
            "image/png": "[encoded data removed]"
          },
          "metadata": {
            "needs_background": "light"
          }
        }
      ]
    },
    {
      "cell_type": "code",
      "source": [
        ""
      ],
      "metadata": {
        "id": "eL6GAm-dp2lg"
      },
      "execution_count": 13,
      "outputs": []
    },
    {
      "cell_type": "code",
      "source": [
        "q1=[]\n",
        "ke_initial=10e9\n",
        "distance1=[]\n",
        "d=0\n",
        "mass=.105e9\n",
        "\n",
        "step_size = 0.001 # This is meters\n",
        "\n",
        "ke = ke_initial\n",
        "icount = 0\n",
        "while ke>1e6:\n",
        "  dedx=bethe_formula(ke,mass, Z=30, A=60, rho=2000)\n",
        "\n",
        "  dedx *= step_size\n",
        "  \n",
        "  ke -= dedx\n",
        "  \n",
        "  d += step_size\n",
        "  \n",
        "  distance1.append(d)\n",
        "  \n",
        "  q1.append(ke)\n",
        "  \n",
        "  icount += 1\n",
        "\n",
        "  #if icount % 1000 == 0:\n",
        "  #  print(d,ke,dedx)\n",
        "\n",
        "  #elif icount >= 1000000:\n",
        "  #  break\n",
        "\n",
        "\n",
        "print(f\"the dist a muon w energy {ke_initial/1e9:.2f} GeV can travel is {d:.2f} m\")"
      ],
      "metadata": {
        "colab": {
          "base_uri": "https://localhost:8080/"
        },
        "id": "MxgCeEVtD_63",
        "outputId": "32b56893-27fb-4ee6-b889-ad74aa3de18a"
      },
      "execution_count": 14,
      "outputs": [
        {
          "output_type": "stream",
          "name": "stdout",
          "text": [
            "the dist a muon w energy 10.00 GeV can travel is 22.99 m\n"
          ]
        }
      ]
    },
    {
      "cell_type": "code",
      "source": [
        "q2=[]\n",
        "ke_initial=20e9\n",
        "distance2=[]\n",
        "d=0\n",
        "step_size = 0.001 # This is meters\n",
        "\n",
        "ke = ke_initial\n",
        "icount = 0\n",
        "while ke>1e6:\n",
        "  dedx=bethe_formula(ke,mass, Z=30, A=60, rho=2000)\n",
        "\n",
        "  dedx *= step_size\n",
        "  \n",
        "  ke -= dedx\n",
        "  \n",
        "  d += step_size\n",
        "  \n",
        "  distance2.append(d)\n",
        "  \n",
        "  q2.append(ke)\n",
        "  \n",
        "  icount += 1\n",
        "\n",
        "print(f\"the dist a muon w energy {ke_initial/1e9:.2f} GeV can travel is {d:.2f} m\")"
      ],
      "metadata": {
        "colab": {
          "base_uri": "https://localhost:8080/"
        },
        "id": "-RuOJP_SpBdG",
        "outputId": "45ffb7a1-3a20-4154-a751-0abb4c92b98b"
      },
      "execution_count": 15,
      "outputs": [
        {
          "output_type": "stream",
          "name": "stdout",
          "text": [
            "the dist a muon w energy 20.00 GeV can travel is 42.32 m\n"
          ]
        }
      ]
    },
    {
      "cell_type": "code",
      "source": [
        "q3=[]\n",
        "ke_initial=30e9\n",
        "distance3=[]\n",
        "d=0\n",
        "step_size = 0.001 # This is meters\n",
        "\n",
        "ke = ke_initial\n",
        "icount = 0\n",
        "while ke>1e6:\n",
        "  dedx=bethe_formula(ke,mass, Z=30, A=60, rho=2000)\n",
        "\n",
        "  dedx *= step_size\n",
        "  \n",
        "  ke -= dedx\n",
        "  \n",
        "  d += step_size\n",
        "  \n",
        "  distance3.append(d)\n",
        "  \n",
        "  q3.append(ke)\n",
        "  \n",
        "  icount += 1\n",
        "\n",
        "print(f\"the dist a muon w energy {ke_initial/1e9:.2f} GeV can travel is {d:.2f} m\")"
      ],
      "metadata": {
        "colab": {
          "base_uri": "https://localhost:8080/"
        },
        "id": "KJu_HCVApBWX",
        "outputId": "77456c61-5785-400c-bc71-b2d53ae46f69"
      },
      "execution_count": 16,
      "outputs": [
        {
          "output_type": "stream",
          "name": "stdout",
          "text": [
            "the dist a muon w energy 30.00 GeV can travel is 60.54 m\n"
          ]
        }
      ]
    },
    {
      "cell_type": "code",
      "source": [
        "q4=[]\n",
        "ke_initial=40e9\n",
        "distance4=[]\n",
        "d=0\n",
        "step_size = 0.001 # This is meters\n",
        "\n",
        "ke = ke_initial\n",
        "icount = 0\n",
        "while ke>1e6:\n",
        "  dedx=bethe_formula(ke,mass, Z=30, A=60, rho=2000)\n",
        "\n",
        "  dedx *= step_size\n",
        "  \n",
        "  ke -= dedx\n",
        "  \n",
        "  d += step_size\n",
        "  \n",
        "  distance4.append(d)\n",
        "  \n",
        "  q4.append(ke)\n",
        "  \n",
        "  icount += 1\n",
        "\n",
        "print(f\"the dist a muon w energy {ke_initial/1e9:.2f} GeV can travel is {d:.2f} m\")"
      ],
      "metadata": {
        "colab": {
          "base_uri": "https://localhost:8080/"
        },
        "id": "cs_bWRQHpBQI",
        "outputId": "bcce473f-7b10-44a7-d1f1-8613e7f3bd57"
      },
      "execution_count": 17,
      "outputs": [
        {
          "output_type": "stream",
          "name": "stdout",
          "text": [
            "the dist a muon w energy 40.00 GeV can travel is 78.11 m\n"
          ]
        }
      ]
    },
    {
      "cell_type": "code",
      "source": [
        "q5=[]\n",
        "ke_initial=50e9\n",
        "distance5=[]\n",
        "d=0\n",
        "step_size = 0.001 # This is meters\n",
        "\n",
        "ke = ke_initial\n",
        "icount = 0\n",
        "while ke>1e6:\n",
        "  dedx=bethe_formula(ke,mass, Z=30, A=60, rho=2000)\n",
        "\n",
        "  dedx *= step_size\n",
        "  \n",
        "  ke -= dedx\n",
        "  \n",
        "  d += step_size\n",
        "  \n",
        "  distance5.append(d)\n",
        "  \n",
        "  q5.append(ke)\n",
        "  \n",
        "  icount += 1\n",
        "\n",
        "print(f\"the dist a muon w energy {ke_initial/1e9:.2f} GeV can travel is {d:.2f} m\")"
      ],
      "metadata": {
        "colab": {
          "base_uri": "https://localhost:8080/"
        },
        "id": "yypp6ZqYpumi",
        "outputId": "5fd1d466-d084-4177-8354-367fa48c33c5"
      },
      "execution_count": 18,
      "outputs": [
        {
          "output_type": "stream",
          "name": "stdout",
          "text": [
            "the dist a muon w energy 50.00 GeV can travel is 95.21 m\n"
          ]
        }
      ]
    },
    {
      "cell_type": "code",
      "source": [
        "q6=[]\n",
        "ke_initial=60e9\n",
        "distance6=[]\n",
        "d=0\n",
        "step_size = 0.001 # This is meters\n",
        "\n",
        "ke = ke_initial\n",
        "icount = 0\n",
        "while ke>1e6:\n",
        "  dedx=bethe_formula(ke,mass, Z=30, A=60, rho=2000)\n",
        "\n",
        "  dedx *= step_size\n",
        "  \n",
        "  ke -= dedx\n",
        "  \n",
        "  d += step_size\n",
        "  \n",
        "  distance6.append(d)\n",
        "  \n",
        "  q6.append(ke)\n",
        "  \n",
        "  icount += 1\n",
        "\n",
        "print(f\"the dist a muon w energy {ke_initial/1e9:.2f} GeV can travel is {d:.2f} m\")"
      ],
      "metadata": {
        "colab": {
          "base_uri": "https://localhost:8080/"
        },
        "id": "SP_LOdHXpukL",
        "outputId": "5a8d4b83-4c9b-44e6-e3c1-43762af7624b"
      },
      "execution_count": 19,
      "outputs": [
        {
          "output_type": "stream",
          "name": "stdout",
          "text": [
            "the dist a muon w energy 60.00 GeV can travel is 111.96 m\n"
          ]
        }
      ]
    },
    {
      "cell_type": "code",
      "source": [
        "q7=[]\n",
        "ke_initial=70e9\n",
        "distance7=[]\n",
        "d=0\n",
        "step_size = 0.001 # This is meters\n",
        "\n",
        "ke = ke_initial\n",
        "icount = 0\n",
        "while ke>1e6:\n",
        "  dedx=bethe_formula(ke,mass, Z=30, A=60, rho=2000)\n",
        "\n",
        "  dedx *= step_size\n",
        "  \n",
        "  ke -= dedx\n",
        "  \n",
        "  d += step_size\n",
        "  \n",
        "  distance7.append(d)\n",
        "  \n",
        "  q7.append(ke)\n",
        "  \n",
        "  icount += 1\n",
        "\n",
        "print(f\"the dist a muon w energy {ke_initial/1e9:.2f} GeV can travel is {d:.2f} m\")"
      ],
      "metadata": {
        "colab": {
          "base_uri": "https://localhost:8080/"
        },
        "id": "9a-5Cv2ppuhi",
        "outputId": "e47c4dd9-8366-42a4-ccf4-ff9203474507"
      },
      "execution_count": 20,
      "outputs": [
        {
          "output_type": "stream",
          "name": "stdout",
          "text": [
            "the dist a muon w energy 70.00 GeV can travel is 128.43 m\n"
          ]
        }
      ]
    },
    {
      "cell_type": "code",
      "source": [
        "q8=[]\n",
        "ke_initial=80e9\n",
        "distance8=[]\n",
        "d=0\n",
        "step_size = 0.001 # This is meters\n",
        "\n",
        "ke = ke_initial\n",
        "icount = 0\n",
        "while ke>1e6:\n",
        "  dedx=bethe_formula(ke,mass, Z=30, A=60, rho=2000)\n",
        "\n",
        "  dedx *= step_size\n",
        "  \n",
        "  ke -= dedx\n",
        "  \n",
        "  d += step_size\n",
        "  \n",
        "  distance8.append(d)\n",
        "  \n",
        "  q8.append(ke)\n",
        "  \n",
        "  icount += 1\n",
        "\n",
        "print(f\"the dist a muon w energy {ke_initial/1e9:.2f} GeV can travel is {d:.2f} m\")"
      ],
      "metadata": {
        "colab": {
          "base_uri": "https://localhost:8080/"
        },
        "id": "c2l7_LEgpuer",
        "outputId": "dc95128c-5929-451c-a11a-0720b48d3dbc"
      },
      "execution_count": 21,
      "outputs": [
        {
          "output_type": "stream",
          "name": "stdout",
          "text": [
            "the dist a muon w energy 80.00 GeV can travel is 144.66 m\n"
          ]
        }
      ]
    },
    {
      "cell_type": "code",
      "source": [
        "q9=[]\n",
        "ke_initial=90e9\n",
        "distance9=[]\n",
        "d=0\n",
        "step_size = 0.001 # This is meters\n",
        "\n",
        "ke = ke_initial\n",
        "icount = 0\n",
        "while ke>1e6:\n",
        "  dedx=bethe_formula(ke,mass, Z=30, A=60, rho=2000)\n",
        "\n",
        "  dedx *= step_size\n",
        "  \n",
        "  ke -= dedx\n",
        "  \n",
        "  d += step_size\n",
        "  \n",
        "  distance9.append(d)\n",
        "  \n",
        "  q9.append(ke)\n",
        "  \n",
        "  icount += 1\n",
        "\n",
        "print(f\"the dist a muon w energy {ke_initial/1e9:.2f} GeV can travel is {d:.2f} m\")"
      ],
      "metadata": {
        "colab": {
          "base_uri": "https://localhost:8080/"
        },
        "id": "7d34PCqVpuVT",
        "outputId": "179f544c-a533-44cd-8fd8-0d82b3c237a0"
      },
      "execution_count": 22,
      "outputs": [
        {
          "output_type": "stream",
          "name": "stdout",
          "text": [
            "the dist a muon w energy 90.00 GeV can travel is 160.70 m\n"
          ]
        }
      ]
    },
    {
      "cell_type": "code",
      "source": [
        "q10=[]\n",
        "ke_initial=100e9\n",
        "distance10=[]\n",
        "d=0\n",
        "step_size = 0.001 # This is meters\n",
        "\n",
        "ke = ke_initial\n",
        "icount = 0\n",
        "while ke>1e6:\n",
        "  dedx=bethe_formula(ke,mass, Z=30, A=60, rho=2000)\n",
        "\n",
        "  dedx *= step_size\n",
        "  \n",
        "  ke -= dedx\n",
        "  \n",
        "  d += step_size\n",
        "  \n",
        "  distance10.append(d)\n",
        "  \n",
        "  q10.append(ke)\n",
        "  \n",
        "  icount += 1\n",
        "\n",
        "print(f\"the dist a muon w energy {ke_initial/1e9:.2f} GeV can travel is {d:.2f} m\")"
      ],
      "metadata": {
        "colab": {
          "base_uri": "https://localhost:8080/"
        },
        "id": "QDV3XK5SqE9W",
        "outputId": "7b491f46-b307-4548-f325-520f93fd8ac5"
      },
      "execution_count": 23,
      "outputs": [
        {
          "output_type": "stream",
          "name": "stdout",
          "text": [
            "the dist a muon w energy 100.00 GeV can travel is 176.57 m\n"
          ]
        }
      ]
    },
    {
      "cell_type": "code",
      "source": [
        "mass=.105e9\n",
        "\n",
        "ke = np.linspace(1e6,1e9,10000)\n",
        "dedx = bethe_formula(ke,mass, Z=30, A=60, rho=2000)\n",
        "dedx /= 1e6 # Convert from eV/m to MeV/m\n",
        "dedx /= 1e2 # Convert from MeV/m to MeV/cm\n",
        "\n",
        "ke1 = np.linspace(1e6,10e9,10000)\n",
        "dedx1 = bethe_formula(ke,mass, Z=30, A=60, rho=2000)\n",
        "dedx1 /= 1e6 # Convert from eV/m to MeV/m\n",
        "dedx1 /= 1e2 # Convert from MeV/m to MeV/cm\n",
        "\n",
        "ke2 = np.linspace(1e6,20e9,10000)\n",
        "dedx2 = bethe_formula(ke,mass, Z=30, A=60, rho=2000)\n",
        "dedx2 /= 1e6 # Convert from eV/m to MeV/m\n",
        "dedx2 /= 1e2 # Convert from MeV/m to MeV/cm\n",
        "\n",
        "ke3 = np.linspace(1e6,30e9,10000)\n",
        "dedx3 = bethe_formula(ke,mass, Z=30, A=60, rho=2000)\n",
        "dedx3 /= 1e6 # Convert from eV/m to MeV/m\n",
        "dedx3 /= 1e2 # Convert from MeV/m to MeV/cm\n",
        "\n",
        "ke4 = np.linspace(1e6,40e9,10000)\n",
        "dedx4 = bethe_formula(ke,mass, Z=30, A=60, rho=2000)\n",
        "dedx4 /= 1e6 # Convert from eV/m to MeV/m\n",
        "dedx4 /= 1e2 # Convert from MeV/m to MeV/cm\n",
        "\n",
        "ke5 = np.linspace(1e6,50e9,10000)\n",
        "dedx5 = bethe_formula(ke,mass, Z=30, A=60, rho=2000)\n",
        "dedx5 /= 1e6 # Convert from eV/m to MeV/m\n",
        "dedx5 /= 1e2 # Convert from MeV/m to MeV/cm\n",
        "\n",
        "ke6 = np.linspace(1e6,60e9,10000)\n",
        "dedx6 = bethe_formula(ke,mass, Z=30, A=60, rho=2000)\n",
        "dedx6 /= 1e6 # Convert from eV/m to MeV/m\n",
        "dedx6 /= 1e2 # Convert from MeV/m to MeV/cm\n",
        "\n",
        "ke7 = np.linspace(1e6,70e9,10000)\n",
        "dedx7 = bethe_formula(ke,mass, Z=30, A=60, rho=2000)\n",
        "dedx7 /= 1e6 # Convert from eV/m to MeV/m\n",
        "dedx7 /= 1e2 # Convert from MeV/m to MeV/cm\n",
        "\n",
        "ke8 = np.linspace(1e6,80e9,10000)\n",
        "dedx8 = bethe_formula(ke,mass, Z=30, A=60, rho=2000)\n",
        "dedx8 /= 1e6 # Convert from eV/m to MeV/m\n",
        "dedx8 /= 1e2 # Convert from MeV/m to MeV/cm\n",
        "\n",
        "ke9 = np.linspace(1e6,90e9,10000)\n",
        "dedx9 = bethe_formula(ke,mass, Z=30, A=60, rho=2000)\n",
        "dedx9 /= 1e6 # Convert from eV/m to MeV/m\n",
        "dedx9 /= 1e2 # Convert from MeV/m to MeV/cm\n",
        "\n",
        "ke10 = np.linspace(1e6,100e9,10000)\n",
        "dedx10 = bethe_formula(ke,mass, Z=30, A=60, rho=2000)\n",
        "dedx10 /= 1e6 # Convert from eV/m to MeV/m\n",
        "dedx10 /= 1e2 # Convert from MeV/m to MeV/cm\n",
        "\n",
        "plt.figure(figsize=(9,6))\n",
        "plt.plot(ke,dedx,label=\"for 1 GeV\")\n",
        "plt.plot(ke1,dedx1,label=\"for 10 GeV\")\n",
        "plt.plot(ke2,dedx2,label=\"for 20 GeV\")\n",
        "plt.plot(ke3,dedx3,label=\"for 30 GeV\")\n",
        "plt.plot(ke4,dedx4,label=\"for 40 GeV\")\n",
        "plt.plot(ke5,dedx5,label=\"for 50 GeV\")\n",
        "plt.plot(ke6,dedx6,label=\"for 60 GeV\")\n",
        "plt.plot(ke7,dedx7,label=\"for 70 GeV\")\n",
        "plt.plot(ke8,dedx8,label=\"for 80 GeV\")\n",
        "plt.plot(ke9,dedx9,label=\"for 90 GeV\")\n",
        "plt.plot(ke10,dedx10,label=\"for 100 GeV\")\n",
        "\n",
        "plt.yscale('log')\n",
        "plt.xscale('log')\n",
        "plt.legend()\n",
        "plt.xlabel(\"kinetic energy\")\n",
        "plt.ylabel(\"dedx\")\n",
        "plt.title(\"KE vs dedx in log-log space\")\n",
        "\n",
        "plt.show()"
      ],
      "metadata": {
        "id": "XR7NcH5EBmfK",
        "colab": {
          "base_uri": "https://localhost:8080/",
          "height": 408
        },
        "outputId": "229f8411-c216-413d-b1ca-d92bf7b21a95"
      },
      "execution_count": 33,
      "outputs": [
        {
          "output_type": "display_data",
          "data": {
            "text/plain": [
              "<Figure size 648x432 with 1 Axes>"
            ],
            "image/png": "[encoded data removed]"
          },
          "metadata": {
            "needs_background": "light"
          }
        }
      ]
    },
    {
      "cell_type": "code",
      "source": [
        ""
      ],
      "metadata": {
        "id": "W2270npIW6aj"
      },
      "execution_count": 24,
      "outputs": []
    }
  ]
}