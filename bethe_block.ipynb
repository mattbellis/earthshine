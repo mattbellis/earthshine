{
  "nbformat": 4,
  "nbformat_minor": 0,
  "metadata": {
    "colab": {
      "name": "bethe_block.ipynb",
      "provenance": [],
      "include_colab_link": true
    },
    "kernelspec": {
      "name": "python3",
      "display_name": "Python 3"
    },
    "language_info": {
      "name": "python"
    }
  },
  "cells": [
    {
      "cell_type": "markdown",
      "metadata": {
        "id": "view-in-github",
        "colab_type": "text"
      },
      "source": [
        "<a href=\"https://colab.research.google.com/github/mattbellis/earthshine/blob/main/bethe_block.ipynb\" target=\"_parent\"><img src=\"https://colab.research.google.com/assets/colab-badge.svg\" alt=\"Open In Colab\"/></a>"
      ]
    },
    {
      "cell_type": "code",
      "source": [
        "import numpy as np\n"
      ],
      "metadata": {
        "id": "5EypglGq4zqR"
      },
      "execution_count": 3,
      "outputs": []
    },
    {
      "cell_type": "code",
      "execution_count": 4,
      "metadata": {
        "id": "ZxP_zEbs4m7i"
      },
      "outputs": [],
      "source": [
        "def my_beta(mass,ke):\n",
        "\n",
        "  etot = mass + ke\n",
        "  p = np.sqrt(etot**2 - mass**2)\n",
        "\n",
        "  beta = p/etot\n",
        "\n",
        "  return beta\n",
        "##########################################################\n",
        "\n",
        "###############################################################\n",
        "# We'll pass in the energy and mass in eV\n",
        "#\n",
        "# Everything else will be calculated in SI units, save for the\n",
        "# density\n",
        "###############################################################\n",
        "def bethe_formula(ke, mass, Z=10, A=18, rho=1):\n",
        "  \n",
        "  m_e = 9.1e-31   # kg\n",
        "  r_e = 2.8e-15 # meters\n",
        "  c = 3e8         # m/s\n",
        "  N_A = 6.022e23\n",
        "\n",
        "  A *= 0.001 # Convert the atomic weight to kg\n",
        "\n",
        "  z = 1     # electrons\n",
        "  echarge = 1.6e-19\n",
        "\n",
        "  # Let energy be in eV\n",
        "  beta = my_beta(mass,ke)\n",
        "  gamma = 1/np.sqrt(1-beta**2)\n",
        "  \n",
        "  I = 10 * Z * 1.6e-19\n",
        "\n",
        "  term1 = 4*np.pi*N_A*(r_e**2)*m_e*(c**2)*(Z/A)*(z**2/beta**2)\n",
        "\n",
        "  term2 = np.log((2*m_e*(c**2)*(beta**2)*(gamma**2))/I) - (beta**2)\n",
        "  \n",
        "  dedx = term1*term2\n",
        "  \n",
        "  dedx *= rho\n",
        "\n",
        "  # dedx is in Joules/m so let's convert it to eV/m\n",
        "  dedx /= 1.6e-19\n",
        "\n",
        "  return dedx"
      ]
    },
    {
      "cell_type": "code",
      "source": [
        "import sys\n",
        "import matplotlib.pylab as plt\n",
        "import numpy as np\n",
        "#import earthshine_tools as etools\n",
        "\n",
        "mass = 0.105e9 # Mass of muon in eV/c^2\n",
        "ke = 1e9 # units of eV, so 1e9 eV = 1 GeV\n",
        "\n",
        "# Copper\n",
        "dedx = bethe_formula(ke,mass,Z=29,A=63,rho=9000)\n",
        "print(f\"For a muon with 1 GeV of kinetic energy in copper,   dE/dx is {dedx/1e6/1e3:.2f} MeV/mm\")\n",
        "\n",
        "# Aluminum\n",
        "dedx = bethe_formula(ke,mass,Z=13,A=27,rho=2700)\n",
        "print(f\"For a muon with 1 GeV of kinetic energy in aluminum, dE/dx is {dedx/1e6/1e3:.2f} MeV/mm\")\n",
        "\n",
        "# Water\n",
        "dedx = bethe_formula(ke,mass,Z=10,A=18,rho=1000)\n",
        "print(f\"For a muon with 1 GeV of kinetic energy in water,    dE/dx is {dedx/1e6/1e3:.2f} MeV/mm\")\n",
        "\n",
        "# SiO2, Si Z=14, O Z=8\n",
        "dedx = bethe_formula(ke,mass,Z=30,A=60,rho=2000)\n",
        "print(f\"For a muon with 1 GeV of kinetic energy in Si02,    dE/dx is {dedx/1e6/1e3:.2f} MeV/mm\")\n",
        "\n",
        "\n",
        "# Make a plot\n",
        "ke = np.linspace(1e6,1e9,10000)\n",
        "dedx = bethe_formula(ke,mass,Z=30,A=60,rho=2000)\n",
        "\n",
        "plt.plot(ke,dedx)\n",
        "plt.xscale('log')\n",
        "plt.yscale('log')\n",
        "\n",
        "\n",
        "\n",
        "# You need this command when running from a script to get the plots to show up.\n",
        "plt.show()\n"
      ],
      "metadata": {
        "id": "VgujTj7N42MQ",
        "colab": {
          "base_uri": "https://localhost:8080/",
          "height": 338
        },
        "outputId": "0b2dc177-4a39-483e-f701-37f3a96b0467"
      },
      "execution_count": 5,
      "outputs": [
        {
          "output_type": "stream",
          "name": "stdout",
          "text": [
            "For a muon with 1 GeV of kinetic energy in copper,   dE/dx is 1.51 MeV/mm\n",
            "For a muon with 1 GeV of kinetic energy in aluminum, dE/dx is 0.51 MeV/mm\n",
            "For a muon with 1 GeV of kinetic energy in water,    dE/dx is 0.22 MeV/mm\n",
            "For a muon with 1 GeV of kinetic energy in Si02,    dE/dx is 0.36 MeV/mm\n"
          ]
        },
        {
          "output_type": "display_data",
          "data": {
            "text/plain": [
              "<Figure size 432x288 with 1 Axes>"
            ],
            "image/png": "[encoded data removed]"
          },
          "metadata": {
            "needs_background": "light"
          }
        }
      ]
    },
    {
      "cell_type": "code",
      "source": [
        "q=[]\n",
        "ke=1e9\n",
        "distance=[]\n",
        "d=0\n",
        "\n",
        "while ke>.001:\n",
        "  dedx=bethe_formula(ke,mass, Z=30, A=60, rho=2000)\n",
        "  dedx/=(1e6)\n",
        "  ke-=dedx\n",
        "  d+=.01 \n",
        "  distance.append(d)\n",
        "  #print(ke,dedx)\n",
        "  q.append(ke)\n",
        "  #print(f\"energy lost: {dedx/1e6/1e2} MeV\")\n",
        "  #print(f\"total energy: {ke/1e9} GeV\")\n",
        "\n",
        "  #Changed 100 GeV to 1 GeV because it was taking too long with 100\n",
        "\n",
        "print(f\"The distance a muon with an energy of 1 GeV can travel is {len(q)} cm\")"
      ],
      "metadata": {
        "colab": {
          "base_uri": "https://localhost:8080/"
        },
        "id": "eL6GAm-dp2lg",
        "outputId": "433aca08-2899-481d-9e83-abaa498d17de"
      },
      "execution_count": 27,
      "outputs": [
        {
          "output_type": "stream",
          "name": "stdout",
          "text": [
            "The distance a muon with an energy of 1 GeV can travel is 2871717 cm\n"
          ]
        }
      ]
    },
    {
      "cell_type": "code",
      "source": [
        "#print(f\"the energy of a 1 GeV muon after travelling 1 meter is {q[99]} eV\")\n",
        "#print(f\"the energy of a 1 GeV muon after travelling 2 meters is {q[199]} eV\")\n",
        "#print(f\"the energy of a 1 GeV muon after travelling 10 meters is {q[999]} eV\")\n",
        "#print(f\"the energy of a 1 GeV muon after travelling 20 meters is {q[1999]} eV\")\n",
        "#print(f\"the energy of a 1 GeV muon after travelling 10000 meters is {q[999999]} eV\")\n",
        "#print(f\"the energy of a 1 GeV muon after travelling 20000 meters is {q[1999999]} eV\")"
      ],
      "metadata": {
        "id": "IzVRdx9ExnGk"
      },
      "execution_count": 24,
      "outputs": []
    },
    {
      "cell_type": "code",
      "source": [
        "plt.plot(distance,q,markersize=5)\n",
        "plt.xlabel(\"distance (cm)\")\n",
        "plt.ylabel(\"energy (eV)\")\n",
        "#plt.yscale(\"log\")\n",
        "#plt.xscale(\"log\")\n",
        "plt.title(\"For 1 GeV muon\")"
      ],
      "metadata": {
        "id": "XR7NcH5EBmfK",
        "colab": {
          "base_uri": "https://localhost:8080/",
          "height": 312
        },
        "outputId": "6f4e916f-ef95-453a-c855-b125826198f2"
      },
      "execution_count": 23,
      "outputs": [
        {
          "output_type": "execute_result",
          "data": {
            "text/plain": [
              "Text(0.5, 1.0, 'For 1 GeV muon')"
            ]
          },
          "metadata": {},
          "execution_count": 23
        },
        {
          "output_type": "display_data",
          "data": {
            "text/plain": [
              "<Figure size 432x288 with 1 Axes>"
            ],
            "image/png": "[encoded data removed]"
          },
          "metadata": {
            "needs_background": "light"
          }
        }
      ]
    },
    {
      "cell_type": "code",
      "source": [
        ""
      ],
      "metadata": {
        "id": "W2270npIW6aj"
      },
      "execution_count": 9,
      "outputs": []
    }
  ]
}